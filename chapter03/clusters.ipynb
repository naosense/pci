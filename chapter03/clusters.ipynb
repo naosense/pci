{
 "cells": [
  {
   "cell_type": "code",
   "execution_count": 1,
   "outputs": [],
   "source": [
    "from clusters import *"
   ],
   "metadata": {
    "collapsed": false,
    "ExecuteTime": {
     "end_time": "2023-07-14T08:17:08.170647Z",
     "start_time": "2023-07-14T08:17:07.967432Z"
    }
   }
  },
  {
   "cell_type": "code",
   "execution_count": 2,
   "outputs": [],
   "source": [
    "blognames, words, data = read_file(\"blogdata.txt\")"
   ],
   "metadata": {
    "collapsed": false,
    "ExecuteTime": {
     "end_time": "2023-07-14T08:17:08.171055Z",
     "start_time": "2023-07-14T08:17:08.004080Z"
    }
   }
  },
  {
   "cell_type": "markdown",
   "source": [
    "## 分级聚类\n",
    "\n",
    "将最相似的群组两两合并，来构造一个群组的层级结构。\n",
    "\n",
    "具体算法为：从一系列群组组找出最相似的两个群组合并为一个新的群组，新的群组的属性等于两个群组属性的平均值。继续这一过程，直到最后只剩一个群组为止。"
   ],
   "metadata": {
    "collapsed": false
   }
  },
  {
   "cell_type": "code",
   "execution_count": 3,
   "outputs": [],
   "source": [
    "hclust = hcluster(data)"
   ],
   "metadata": {
    "collapsed": false,
    "ExecuteTime": {
     "end_time": "2023-07-14T08:17:09.132824Z",
     "start_time": "2023-07-14T08:17:08.024947Z"
    }
   }
  },
  {
   "cell_type": "code",
   "execution_count": 4,
   "outputs": [
    {
     "name": "stdout",
     "output_type": "stream",
     "text": [
      "-\n",
      " gapingvoid: \"cartoons drawn on the back of business cards\"\n",
      " -\n",
      "  -\n",
      "   Schneier on Security\n",
      "   Instapundit.com\n",
      "  -\n",
      "   The Blotter\n",
      "   -\n",
      "    -\n",
      "     MetaFilter\n",
      "     -\n",
      "      SpikedHumor\n",
      "      -\n",
      "       Captain's Quarters\n",
      "       -\n",
      "        Michelle Malkin\n",
      "        -\n",
      "         -\n",
      "          NewsBusters.org - Exposing Liberal Media Bias\n",
      "          -\n",
      "           -\n",
      "            Hot Air\n",
      "            Crooks and Liars\n",
      "           -\n",
      "            Power Line\n",
      "            Think Progress\n",
      "         -\n",
      "          Andrew Sullivan | The Daily Dish\n",
      "          -\n",
      "           Little Green Footballs\n",
      "           -\n",
      "            Eschaton\n",
      "            -\n",
      "             Talking Points Memo: by Joshua Micah Marshall\n",
      "             Daily Kos\n",
      "    -\n",
      "     43 Folders\n",
      "     -\n",
      "      TechEBlog\n",
      "      -\n",
      "       -\n",
      "        Mashable!\n",
      "        Signum sine tinnitu--by Guy Kawasaki\n",
      "       -\n",
      "        -\n",
      "         -\n",
      "          Slashdot\n",
      "          -\n",
      "           MAKE Magazine\n",
      "           Boing Boing\n",
      "         -\n",
      "          -\n",
      "           Oilman\n",
      "           -\n",
      "            Online Marketing Report\n",
      "            -\n",
      "             Treehugger\n",
      "             -\n",
      "              SimpleBits\n",
      "              -\n",
      "               Cool Hunting\n",
      "               -\n",
      "                Steve Pavlina's Personal Development Blog\n",
      "                -\n",
      "                 -\n",
      "                  ScienceBlogs : Combined Feed\n",
      "                  Pharyngula\n",
      "                 -\n",
      "                  BuzzMachine\n",
      "                  -\n",
      "                   Copyblogger\n",
      "                   -\n",
      "                    -\n",
      "                     The Viral Garden\n",
      "                     Seth's Blog\n",
      "                    -\n",
      "                     -\n",
      "                      Bloggers Blog: Blogging the Blogsphere\n",
      "                      -\n",
      "                       Sifry's Alerts\n",
      "                       ProBlogger Blog Tips\n",
      "                     -\n",
      "                      -\n",
      "                       Valleywag\n",
      "                       Scobleizer - Tech Geek Blogger\n",
      "                      -\n",
      "                       -\n",
      "                        O'Reilly Radar\n",
      "                        456 Berea Street\n",
      "                       -\n",
      "                        Lifehacker\n",
      "                        -\n",
      "                         Quick Online Tips\n",
      "                         -\n",
      "                          Publishing 2.0\n",
      "                          -\n",
      "                           Micro Persuasion\n",
      "                           -\n",
      "                            A Consuming Experience (full feed)\n",
      "                            -\n",
      "                             John Battelle's Searchblog\n",
      "                             -\n",
      "                              Search Engine Watch Blog\n",
      "                              -\n",
      "                               Read/WriteWeb\n",
      "                               -\n",
      "                                Official Google Blog\n",
      "                                -\n",
      "                                 Search Engine Roundtable\n",
      "                                 -\n",
      "                                  Google Operating System\n",
      "                                  Google Blogoscoped\n",
      "          -\n",
      "           -\n",
      "            -\n",
      "             -\n",
      "              Blog Maverick\n",
      "              -\n",
      "               Download Squad\n",
      "               -\n",
      "                CoolerHeads Prevail\n",
      "                -\n",
      "                 Joystiq\n",
      "                 The Unofficial Apple Weblog (TUAW)\n",
      "             -\n",
      "              Autoblog\n",
      "              -\n",
      "               Engadget\n",
      "               TMZ.com\n",
      "            -\n",
      "             Matt Cutts: Gadgets, Google, and SEO\n",
      "             -\n",
      "              PaulStamatiou.com\n",
      "              -\n",
      "               -\n",
      "                GigaOM\n",
      "                TechCrunch\n",
      "               -\n",
      "                -\n",
      "                 Techdirt\n",
      "                 Creating Passionate Users\n",
      "                -\n",
      "                 Joho the Blog\n",
      "                 -\n",
      "                  -\n",
      "                   PerezHilton.com\n",
      "                   Jeremy Zawodny's blog\n",
      "                  -\n",
      "                   Joi Ito's Web\n",
      "                   -\n",
      "                    ongoing\n",
      "                    -\n",
      "                     Joel on Software\n",
      "                     -\n",
      "                      -\n",
      "                       we make money not art\n",
      "                       -\n",
      "                        plasticbag.org\n",
      "                        -\n",
      "                         Signal vs. Noise\n",
      "                         -\n",
      "                          kottke.org\n",
      "                          -\n",
      "                           Neil Gaiman's Journal\n",
      "                           -\n",
      "                            -\n",
      "                             The Huffington Post | Raw Feed\n",
      "                             -\n",
      "                              Wonkette\n",
      "                              -\n",
      "                               Gawker\n",
      "                               -\n",
      "                                The Superficial - Because You're Ugly\n",
      "                                Go Fug Yourself\n",
      "                            -\n",
      "                             Deadspin\n",
      "                             Gothamist\n",
      "                      -\n",
      "                       Kotaku\n",
      "                       Gizmodo\n",
      "           -\n",
      "            Shoemoney - Skills to pay the bills\n",
      "            -\n",
      "             flagrantdisregard\n",
      "             -\n",
      "              WWdN: In Exile\n",
      "              -\n",
      "               Derek Powazek\n",
      "               -\n",
      "                lifehack.org\n",
      "                Dave Shea's mezzoblue\n",
      "        -\n",
      "         Wired News: Top Stories\n",
      "         -\n",
      "          Topix.net Weblog\n",
      "          Bloglines | News\n"
     ]
    }
   ],
   "source": [
    "print_clust(hclust, blognames)"
   ],
   "metadata": {
    "collapsed": false,
    "ExecuteTime": {
     "end_time": "2023-07-14T08:17:09.139591Z",
     "start_time": "2023-07-14T08:17:09.137232Z"
    }
   }
  },
  {
   "cell_type": "code",
   "execution_count": 5,
   "outputs": [],
   "source": [
    "draw_dendrogram(hclust, blognames, jpeg=\"blogclust.jpg\")"
   ],
   "metadata": {
    "collapsed": false,
    "ExecuteTime": {
     "end_time": "2023-07-14T08:17:09.185441Z",
     "start_time": "2023-07-14T08:17:09.141102Z"
    }
   }
  },
  {
   "cell_type": "code",
   "execution_count": 6,
   "outputs": [],
   "source": [
    "rdata = rotate_matrix(data)"
   ],
   "metadata": {
    "collapsed": false,
    "ExecuteTime": {
     "end_time": "2023-07-14T08:17:09.190473Z",
     "start_time": "2023-07-14T08:17:09.189188Z"
    }
   }
  },
  {
   "cell_type": "code",
   "execution_count": 7,
   "outputs": [],
   "source": [
    "word_clust = hcluster(rdata)"
   ],
   "metadata": {
    "collapsed": false,
    "ExecuteTime": {
     "end_time": "2023-07-14T08:17:34.187556Z",
     "start_time": "2023-07-14T08:17:09.190648Z"
    }
   }
  },
  {
   "cell_type": "code",
   "execution_count": 8,
   "outputs": [],
   "source": [
    "draw_dendrogram(word_clust, labels=words, jpeg=\"word_clust.jpg\")"
   ],
   "metadata": {
    "collapsed": false,
    "ExecuteTime": {
     "end_time": "2023-07-14T08:17:34.372676Z",
     "start_time": "2023-07-14T08:17:34.188242Z"
    }
   }
  },
  {
   "cell_type": "markdown",
   "source": [
    "## K均值聚类\n",
    "\n",
    "分级聚类有两个缺点：一是不会将数据**真正地**拆分为不同组（？）；二是计算量大，每次都得遍历找最相似的两两群组。"
   ],
   "metadata": {
    "collapsed": false
   }
  },
  {
   "cell_type": "code",
   "execution_count": 9,
   "outputs": [
    {
     "name": "stdout",
     "output_type": "stream",
     "text": [
      "Iteration 0\n",
      "Iteration 1\n",
      "Iteration 2\n",
      "Iteration 3\n",
      "Iteration 4\n",
      "Iteration 5\n"
     ]
    }
   ],
   "source": [
    "kclust = kcluster(data, k=10)"
   ],
   "metadata": {
    "collapsed": false,
    "ExecuteTime": {
     "end_time": "2023-07-14T08:17:35.774780Z",
     "start_time": "2023-07-14T08:17:34.443741Z"
    }
   }
  },
  {
   "cell_type": "code",
   "execution_count": 10,
   "outputs": [
    {
     "data": {
      "text/plain": "['Eschaton',\n 'Talking Points Memo: by Joshua Micah Marshall',\n 'Daily Kos',\n 'Andrew Sullivan | The Daily Dish',\n 'BuzzMachine',\n \"Sifry's Alerts\",\n 'Power Line',\n 'The Blotter',\n 'Bloggers Blog: Blogging the Blogsphere',\n 'Schneier on Security',\n 'Copyblogger',\n 'Think Progress',\n 'Shoemoney - Skills to pay the bills',\n 'Little Green Footballs',\n 'Oilman',\n 'Instapundit.com']"
     },
     "execution_count": 10,
     "metadata": {},
     "output_type": "execute_result"
    }
   ],
   "source": [
    "[blognames[r] for r in kclust[0]]"
   ],
   "metadata": {
    "collapsed": false,
    "ExecuteTime": {
     "end_time": "2023-07-14T08:17:35.779500Z",
     "start_time": "2023-07-14T08:17:35.777311Z"
    }
   }
  },
  {
   "cell_type": "code",
   "execution_count": 11,
   "outputs": [
    {
     "data": {
      "text/plain": "['we make money not art',\n 'Joho the Blog',\n \"Neil Gaiman's Journal\",\n 'Signal vs. Noise',\n 'lifehack.org',\n '43 Folders',\n 'Deadspin',\n 'Gizmodo',\n 'Gothamist',\n 'flagrantdisregard',\n \"Dave Shea's mezzoblue\",\n 'kottke.org',\n 'ongoing',\n 'Joel on Software',\n 'Derek Powazek',\n \"Jeremy Zawodny's blog\",\n 'gapingvoid: \"cartoons drawn on the back of business cards\"',\n 'plasticbag.org',\n 'WWdN: In Exile',\n 'The Huffington Post | Raw Feed']"
     },
     "execution_count": 11,
     "metadata": {},
     "output_type": "execute_result"
    }
   ],
   "source": [
    "[blognames[r] for r in kclust[1]]"
   ],
   "metadata": {
    "collapsed": false,
    "ExecuteTime": {
     "end_time": "2023-07-14T08:17:35.784810Z",
     "start_time": "2023-07-14T08:17:35.780293Z"
    }
   }
  },
  {
   "cell_type": "code",
   "execution_count": 12,
   "outputs": [],
   "source": [
    "wants, people, data = read_file(\"zebo.txt\")"
   ],
   "metadata": {
    "collapsed": false,
    "ExecuteTime": {
     "end_time": "2023-07-14T08:17:35.830345Z",
     "start_time": "2023-07-14T08:17:35.782610Z"
    }
   }
  },
  {
   "cell_type": "code",
   "execution_count": 13,
   "outputs": [],
   "source": [
    "hclust = hcluster(data, distance=tanimoto)"
   ],
   "metadata": {
    "collapsed": false,
    "ExecuteTime": {
     "end_time": "2023-07-14T08:17:35.859207Z",
     "start_time": "2023-07-14T08:17:35.813728Z"
    }
   }
  },
  {
   "cell_type": "code",
   "execution_count": 14,
   "outputs": [],
   "source": [
    "draw_dendrogram(hclust, wants, jpeg=\"zebo.jpg\")"
   ],
   "metadata": {
    "collapsed": false,
    "ExecuteTime": {
     "end_time": "2023-07-14T08:17:35.873544Z",
     "start_time": "2023-07-14T08:17:35.862482Z"
    }
   }
  },
  {
   "cell_type": "code",
   "execution_count": 15,
   "outputs": [],
   "source": [
    "blognames, words, data = read_file(\"blogdata.txt\")"
   ],
   "metadata": {
    "collapsed": false,
    "ExecuteTime": {
     "end_time": "2023-07-14T08:17:35.882962Z",
     "start_time": "2023-07-14T08:17:35.874129Z"
    }
   }
  },
  {
   "cell_type": "code",
   "execution_count": 16,
   "outputs": [
    {
     "name": "stdout",
     "output_type": "stream",
     "text": [
      "4389.522509977774\n",
      "3532.214346364405\n",
      "3461.188546860334\n",
      "3422.8059292525363\n",
      "3390.0888935954367\n",
      "3364.186394672504\n",
      "3340.8267520941\n",
      "3318.61641977645\n",
      "3299.7799701645436\n",
      "3284.088365565235\n",
      "3268.7447110340904\n",
      "3256.861741658701\n",
      "3247.2503263252997\n",
      "3239.374283475996\n",
      "3231.7927959533376\n",
      "3225.365958805304\n",
      "3219.3481601200697\n",
      "3213.8220954537487\n",
      "3208.408641115891\n",
      "3203.8107887611363\n",
      "3199.4822844890964\n",
      "3195.706577935886\n",
      "3192.475094378715\n",
      "3190.0088191275167\n",
      "3187.4394339666324\n",
      "3184.7083663921126\n",
      "3181.998547382751\n",
      "3179.311499169888\n",
      "3176.7141247476125\n",
      "3174.215658866853\n",
      "3171.464949980437\n",
      "3168.6633723131386\n",
      "3166.2102429388906\n",
      "3163.851729456717\n",
      "3161.5610662876034\n",
      "3159.29484934679\n",
      "3157.288243161885\n",
      "3155.6617422507225\n",
      "3154.056184872206\n",
      "3151.7625485249823\n",
      "3149.3805824391484\n",
      "3146.9666999666283\n",
      "3144.721707546519\n",
      "3142.3803134239306\n",
      "3140.040377393573\n",
      "3137.7642947106037\n",
      "3135.8029652265354\n",
      "3133.5460724542854\n",
      "3131.601094691557\n",
      "3129.946541268286\n",
      "3128.539991989085\n",
      "3127.1065122333052\n",
      "3125.639339066626\n",
      "3124.2270682641406\n",
      "3122.756484787557\n",
      "3121.156637166544\n",
      "3119.6480915715597\n",
      "3118.189686679343\n",
      "3116.586513152152\n",
      "3114.953377475002\n",
      "3113.6465896631444\n",
      "3112.3354461792296\n",
      "3110.80335794312\n",
      "3109.1157654065805\n",
      "3107.488399682662\n",
      "3105.7425224201934\n",
      "3103.907994801515\n",
      "3102.053918771464\n",
      "3100.0889731194316\n",
      "3097.841863650836\n",
      "3095.5265369258577\n",
      "3093.137740972463\n",
      "3090.80737382482\n",
      "3088.714731449986\n",
      "3086.5784643543857\n",
      "3084.6111262029717\n",
      "3082.9908505916005\n",
      "3081.775259847441\n",
      "3080.7036764950585\n",
      "3079.637095244558\n",
      "3078.418098271781\n",
      "3077.282162166586\n",
      "3076.2237921810633\n",
      "3075.00448926671\n",
      "3073.3856021344964\n",
      "3071.794156054796\n",
      "3070.1976841408737\n",
      "3068.4800852023395\n",
      "3066.912217307941\n",
      "3065.4150511197263\n",
      "3063.827984810959\n",
      "3062.4887144847876\n",
      "3061.1489747036826\n",
      "3059.772163968156\n",
      "3058.377063964332\n",
      "3057.1238028033795\n",
      "3056.027549379706\n",
      "3054.8395253440895\n",
      "3053.6346620490526\n",
      "3052.3155960660943\n",
      "3050.860061796865\n",
      "3049.439663421078\n",
      "3048.1908296724555\n",
      "3047.0576533371486\n",
      "3046.011978572554\n",
      "3045.0565707620412\n",
      "3044.27379007658\n",
      "3043.5256344863483\n",
      "3042.9583446227425\n",
      "3042.4549852793316\n",
      "3041.802391273141\n",
      "3041.045589738598\n",
      "3040.4299920251706\n",
      "3039.8996450830614\n",
      "3039.25757863498\n",
      "3038.379540929285\n",
      "3037.635870739342\n",
      "3036.9377863511445\n",
      "3036.2522955806116\n",
      "3035.5341282984396\n",
      "3034.7601578558024\n",
      "3033.9207596128695\n",
      "3033.018354164548\n",
      "3032.16565904306\n",
      "3031.345878938046\n",
      "3030.5276423091427\n",
      "3029.79519073759\n",
      "3029.0357355703636\n",
      "3028.226743866908\n",
      "3027.47666150232\n",
      "3026.773286190927\n",
      "3026.1531140728657\n",
      "3025.515702654177\n",
      "3024.7777597398185\n",
      "3023.9578518449944\n",
      "3023.298966358976\n",
      "3022.7187994207675\n",
      "3022.13774439015\n",
      "3021.551640664096\n",
      "3021.0534288944273\n",
      "3020.6024591682935\n",
      "3020.208452037029\n",
      "3019.900345369941\n",
      "3019.677996042763\n",
      "3019.5387031193163\n",
      "3019.400548543666\n",
      "3019.2547562396553\n",
      "3019.1460678612725\n",
      "3019.0686451379947\n",
      "3018.964456986733\n",
      "3018.887055426184\n",
      "3018.806410846456\n",
      "3018.72367023094\n",
      "3018.6695192975376\n",
      "3018.588197763772\n",
      "3018.4897208626758\n",
      "3018.4806846371225\n",
      "3018.4775968926447\n",
      "3018.44536034646\n",
      "3018.4584267126947\n"
     ]
    }
   ],
   "source": [
    "coords = scale_down(data)"
   ],
   "metadata": {
    "collapsed": false,
    "ExecuteTime": {
     "end_time": "2023-07-14T08:17:38.430667Z",
     "start_time": "2023-07-14T08:17:35.907113Z"
    }
   }
  },
  {
   "cell_type": "code",
   "execution_count": 17,
   "outputs": [],
   "source": [
    "draw2d(coords, blognames, jpeg=\"blogs2d.jpg\")"
   ],
   "metadata": {
    "collapsed": false,
    "ExecuteTime": {
     "end_time": "2023-07-14T08:17:38.472802Z",
     "start_time": "2023-07-14T08:17:38.431530Z"
    }
   }
  }
 ],
 "metadata": {
  "kernelspec": {
   "display_name": "Python 3 (ipykernel)",
   "language": "python",
   "name": "python3"
  },
  "language_info": {
   "codemirror_mode": {
    "name": "ipython",
    "version": 3
   },
   "file_extension": ".py",
   "mimetype": "text/x-python",
   "name": "python",
   "nbconvert_exporter": "python",
   "pygments_lexer": "ipython3",
   "version": "3.10.12"
  }
 },
 "nbformat": 4,
 "nbformat_minor": 5
}
