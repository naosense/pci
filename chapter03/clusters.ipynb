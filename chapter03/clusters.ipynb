{
 "cells": [
  {
   "cell_type": "code",
   "execution_count": 1,
   "outputs": [],
   "source": [
    "from clusters import *"
   ],
   "metadata": {
    "collapsed": false,
    "ExecuteTime": {
     "end_time": "2023-07-14T06:36:34.774543Z",
     "start_time": "2023-07-14T06:36:34.711831Z"
    }
   }
  },
  {
   "cell_type": "code",
   "execution_count": 2,
   "outputs": [],
   "source": [
    "blognames, words, data = read_file(\"blogdata.txt\")"
   ],
   "metadata": {
    "collapsed": false,
    "ExecuteTime": {
     "end_time": "2023-07-14T06:36:34.786087Z",
     "start_time": "2023-07-14T06:36:34.775219Z"
    }
   }
  },
  {
   "cell_type": "markdown",
   "source": [
    "## 分级聚类\n",
    "\n",
    "将最相似的群组两两合并，来构造一个群组的层级结构。\n",
    "\n",
    "具体算法为：从一系列群组组找出最相似的两个群组合并为一个新的群组，新的群组的属性等于两个群组属性的平均值。继续这一过程，直到最后只剩一个群组为止。"
   ],
   "metadata": {
    "collapsed": false
   }
  },
  {
   "cell_type": "code",
   "execution_count": 3,
   "outputs": [],
   "source": [
    "hclust = hcluster(data)"
   ],
   "metadata": {
    "collapsed": false,
    "ExecuteTime": {
     "end_time": "2023-07-14T06:36:35.896821Z",
     "start_time": "2023-07-14T06:36:34.830984Z"
    }
   }
  },
  {
   "cell_type": "code",
   "execution_count": 4,
   "outputs": [
    {
     "name": "stdout",
     "output_type": "stream",
     "text": [
      "-\n",
      " gapingvoid: \"cartoons drawn on the back of business cards\"\n",
      " -\n",
      "  -\n",
      "   Schneier on Security\n",
      "   Instapundit.com\n",
      "  -\n",
      "   The Blotter\n",
      "   -\n",
      "    -\n",
      "     MetaFilter\n",
      "     -\n",
      "      SpikedHumor\n",
      "      -\n",
      "       Captain's Quarters\n",
      "       -\n",
      "        Michelle Malkin\n",
      "        -\n",
      "         -\n",
      "          NewsBusters.org - Exposing Liberal Media Bias\n",
      "          -\n",
      "           -\n",
      "            Hot Air\n",
      "            Crooks and Liars\n",
      "           -\n",
      "            Power Line\n",
      "            Think Progress\n",
      "         -\n",
      "          Andrew Sullivan | The Daily Dish\n",
      "          -\n",
      "           Little Green Footballs\n",
      "           -\n",
      "            Eschaton\n",
      "            -\n",
      "             Talking Points Memo: by Joshua Micah Marshall\n",
      "             Daily Kos\n",
      "    -\n",
      "     43 Folders\n",
      "     -\n",
      "      TechEBlog\n",
      "      -\n",
      "       -\n",
      "        Mashable!\n",
      "        Signum sine tinnitu--by Guy Kawasaki\n",
      "       -\n",
      "        -\n",
      "         -\n",
      "          Slashdot\n",
      "          -\n",
      "           MAKE Magazine\n",
      "           Boing Boing\n",
      "         -\n",
      "          -\n",
      "           Oilman\n",
      "           -\n",
      "            Online Marketing Report\n",
      "            -\n",
      "             Treehugger\n",
      "             -\n",
      "              SimpleBits\n",
      "              -\n",
      "               Cool Hunting\n",
      "               -\n",
      "                Steve Pavlina's Personal Development Blog\n",
      "                -\n",
      "                 -\n",
      "                  ScienceBlogs : Combined Feed\n",
      "                  Pharyngula\n",
      "                 -\n",
      "                  BuzzMachine\n",
      "                  -\n",
      "                   Copyblogger\n",
      "                   -\n",
      "                    -\n",
      "                     The Viral Garden\n",
      "                     Seth's Blog\n",
      "                    -\n",
      "                     -\n",
      "                      Bloggers Blog: Blogging the Blogsphere\n",
      "                      -\n",
      "                       Sifry's Alerts\n",
      "                       ProBlogger Blog Tips\n",
      "                     -\n",
      "                      -\n",
      "                       Valleywag\n",
      "                       Scobleizer - Tech Geek Blogger\n",
      "                      -\n",
      "                       -\n",
      "                        O'Reilly Radar\n",
      "                        456 Berea Street\n",
      "                       -\n",
      "                        Lifehacker\n",
      "                        -\n",
      "                         Quick Online Tips\n",
      "                         -\n",
      "                          Publishing 2.0\n",
      "                          -\n",
      "                           Micro Persuasion\n",
      "                           -\n",
      "                            A Consuming Experience (full feed)\n",
      "                            -\n",
      "                             John Battelle's Searchblog\n",
      "                             -\n",
      "                              Search Engine Watch Blog\n",
      "                              -\n",
      "                               Read/WriteWeb\n",
      "                               -\n",
      "                                Official Google Blog\n",
      "                                -\n",
      "                                 Search Engine Roundtable\n",
      "                                 -\n",
      "                                  Google Operating System\n",
      "                                  Google Blogoscoped\n",
      "          -\n",
      "           -\n",
      "            -\n",
      "             -\n",
      "              Blog Maverick\n",
      "              -\n",
      "               Download Squad\n",
      "               -\n",
      "                CoolerHeads Prevail\n",
      "                -\n",
      "                 Joystiq\n",
      "                 The Unofficial Apple Weblog (TUAW)\n",
      "             -\n",
      "              Autoblog\n",
      "              -\n",
      "               Engadget\n",
      "               TMZ.com\n",
      "            -\n",
      "             Matt Cutts: Gadgets, Google, and SEO\n",
      "             -\n",
      "              PaulStamatiou.com\n",
      "              -\n",
      "               -\n",
      "                GigaOM\n",
      "                TechCrunch\n",
      "               -\n",
      "                -\n",
      "                 Techdirt\n",
      "                 Creating Passionate Users\n",
      "                -\n",
      "                 Joho the Blog\n",
      "                 -\n",
      "                  -\n",
      "                   PerezHilton.com\n",
      "                   Jeremy Zawodny's blog\n",
      "                  -\n",
      "                   Joi Ito's Web\n",
      "                   -\n",
      "                    ongoing\n",
      "                    -\n",
      "                     Joel on Software\n",
      "                     -\n",
      "                      -\n",
      "                       we make money not art\n",
      "                       -\n",
      "                        plasticbag.org\n",
      "                        -\n",
      "                         Signal vs. Noise\n",
      "                         -\n",
      "                          kottke.org\n",
      "                          -\n",
      "                           Neil Gaiman's Journal\n",
      "                           -\n",
      "                            -\n",
      "                             The Huffington Post | Raw Feed\n",
      "                             -\n",
      "                              Wonkette\n",
      "                              -\n",
      "                               Gawker\n",
      "                               -\n",
      "                                The Superficial - Because You're Ugly\n",
      "                                Go Fug Yourself\n",
      "                            -\n",
      "                             Deadspin\n",
      "                             Gothamist\n",
      "                      -\n",
      "                       Kotaku\n",
      "                       Gizmodo\n",
      "           -\n",
      "            Shoemoney - Skills to pay the bills\n",
      "            -\n",
      "             flagrantdisregard\n",
      "             -\n",
      "              WWdN: In Exile\n",
      "              -\n",
      "               Derek Powazek\n",
      "               -\n",
      "                lifehack.org\n",
      "                Dave Shea's mezzoblue\n",
      "        -\n",
      "         Wired News: Top Stories\n",
      "         -\n",
      "          Topix.net Weblog\n",
      "          Bloglines | News\n"
     ]
    }
   ],
   "source": [
    "print_clust(hclust, blognames)"
   ],
   "metadata": {
    "collapsed": false,
    "ExecuteTime": {
     "end_time": "2023-07-14T06:36:35.903050Z",
     "start_time": "2023-07-14T06:36:35.900075Z"
    }
   }
  },
  {
   "cell_type": "code",
   "execution_count": 5,
   "outputs": [],
   "source": [
    "draw_dendrogram(hclust, blognames, jpeg=\"blogclust.jpg\")"
   ],
   "metadata": {
    "collapsed": false,
    "ExecuteTime": {
     "end_time": "2023-07-14T06:36:36.032501Z",
     "start_time": "2023-07-14T06:36:35.903911Z"
    }
   }
  },
  {
   "cell_type": "code",
   "execution_count": 6,
   "outputs": [],
   "source": [
    "rdata = rotate_matrix(data)"
   ],
   "metadata": {
    "collapsed": false,
    "ExecuteTime": {
     "end_time": "2023-07-14T06:36:36.039066Z",
     "start_time": "2023-07-14T06:36:36.037749Z"
    }
   }
  },
  {
   "cell_type": "code",
   "execution_count": 7,
   "outputs": [],
   "source": [
    "word_clust = hcluster(rdata)"
   ],
   "metadata": {
    "collapsed": false,
    "ExecuteTime": {
     "end_time": "2023-07-14T06:36:59.671225Z",
     "start_time": "2023-07-14T06:36:36.045904Z"
    }
   }
  },
  {
   "cell_type": "code",
   "execution_count": 8,
   "outputs": [],
   "source": [
    "draw_dendrogram(word_clust, labels=words, jpeg=\"word_clust.jpg\")"
   ],
   "metadata": {
    "collapsed": false,
    "ExecuteTime": {
     "end_time": "2023-07-14T06:36:59.839715Z",
     "start_time": "2023-07-14T06:36:59.668882Z"
    }
   }
  },
  {
   "cell_type": "markdown",
   "source": [
    "## K均值聚类\n",
    "\n",
    "分级聚类有两个缺点：一是不会将数据**真正地**拆分为不同组（？）；二是计算量大，每次都得遍历找最相似的两两群组。"
   ],
   "metadata": {
    "collapsed": false
   }
  },
  {
   "cell_type": "code",
   "execution_count": 9,
   "outputs": [
    {
     "name": "stdout",
     "output_type": "stream",
     "text": [
      "Iteration 0\n",
      "Iteration 1\n",
      "Iteration 2\n",
      "Iteration 3\n",
      "Iteration 4\n"
     ]
    }
   ],
   "source": [
    "kclust = kcluster(data, k=10)"
   ],
   "metadata": {
    "collapsed": false,
    "ExecuteTime": {
     "end_time": "2023-07-14T06:37:00.995115Z",
     "start_time": "2023-07-14T06:36:59.847157Z"
    }
   }
  },
  {
   "cell_type": "code",
   "execution_count": 10,
   "outputs": [
    {
     "data": {
      "text/plain": "[\"The Superficial - Because You're Ugly\",\n 'Wonkette',\n 'Eschaton',\n \"Neil Gaiman's Journal\",\n 'Hot Air',\n 'Talking Points Memo: by Joshua Micah Marshall',\n 'Daily Kos',\n 'Go Fug Yourself',\n 'Andrew Sullivan | The Daily Dish',\n 'Michelle Malkin',\n 'SpikedHumor',\n \"Captain's Quarters\",\n 'Power Line',\n 'The Blotter',\n 'Crooks and Liars',\n 'Think Progress',\n 'Little Green Footballs',\n 'NewsBusters.org - Exposing Liberal Media Bias',\n 'Instapundit.com',\n 'PerezHilton.com',\n 'Gawker',\n 'The Huffington Post | Raw Feed']"
     },
     "execution_count": 10,
     "metadata": {},
     "output_type": "execute_result"
    }
   ],
   "source": [
    "[blognames[r] for r in kclust[0]]"
   ],
   "metadata": {
    "collapsed": false,
    "ExecuteTime": {
     "end_time": "2023-07-14T06:37:00.999998Z",
     "start_time": "2023-07-14T06:37:00.997334Z"
    }
   }
  },
  {
   "cell_type": "code",
   "execution_count": 11,
   "outputs": [
    {
     "data": {
      "text/plain": "['Mashable!',\n 'Signal vs. Noise',\n 'lifehack.org',\n 'BuzzMachine',\n \"Sifry's Alerts\",\n 'The Viral Garden',\n 'flagrantdisregard',\n 'TMZ.com',\n 'Copyblogger',\n 'Scobleizer - Tech Geek Blogger',\n 'Shoemoney - Skills to pay the bills',\n \"Dave Shea's mezzoblue\",\n 'Oilman',\n 'Derek Powazek',\n \"Jeremy Zawodny's blog\",\n 'gapingvoid: \"cartoons drawn on the back of business cards\"',\n 'Autoblog',\n 'WWdN: In Exile',\n 'ProBlogger Blog Tips',\n \"Seth's Blog\"]"
     },
     "execution_count": 11,
     "metadata": {},
     "output_type": "execute_result"
    }
   ],
   "source": [
    "[blognames[r] for r in kclust[1]]\n"
   ],
   "metadata": {
    "collapsed": false,
    "ExecuteTime": {
     "end_time": "2023-07-14T06:37:01.003238Z",
     "start_time": "2023-07-14T06:37:01.000231Z"
    }
   }
  },
  {
   "cell_type": "code",
   "execution_count": 12,
   "outputs": [],
   "source": [
    "wants, people, data = read_file(\"zebo.txt\")"
   ],
   "metadata": {
    "collapsed": false,
    "ExecuteTime": {
     "end_time": "2023-07-14T06:37:01.007886Z",
     "start_time": "2023-07-14T06:37:01.003952Z"
    }
   }
  },
  {
   "cell_type": "code",
   "execution_count": 13,
   "outputs": [],
   "source": [
    "hclust = hcluster(data, distance=tanimoto)"
   ],
   "metadata": {
    "collapsed": false,
    "ExecuteTime": {
     "end_time": "2023-07-14T06:37:01.077815Z",
     "start_time": "2023-07-14T06:37:01.040150Z"
    }
   }
  },
  {
   "cell_type": "code",
   "execution_count": 14,
   "outputs": [],
   "source": [
    "draw_dendrogram(hclust, wants, jpeg=\"zebo.jpg\")"
   ],
   "metadata": {
    "collapsed": false,
    "ExecuteTime": {
     "end_time": "2023-07-14T06:37:01.091739Z",
     "start_time": "2023-07-14T06:37:01.080148Z"
    }
   }
  },
  {
   "cell_type": "code",
   "execution_count": 15,
   "outputs": [],
   "source": [
    "blognames, words, data = read_file(\"blogdata.txt\")\n"
   ],
   "metadata": {
    "collapsed": false,
    "ExecuteTime": {
     "end_time": "2023-07-14T06:37:01.100931Z",
     "start_time": "2023-07-14T06:37:01.092017Z"
    }
   }
  },
  {
   "cell_type": "code",
   "execution_count": 16,
   "outputs": [
    {
     "name": "stdout",
     "output_type": "stream",
     "text": [
      "4673.854959670995\n",
      "3633.2789813439163\n",
      "3551.4625741993914\n",
      "3513.18616574575\n",
      "3480.8975602971136\n",
      "3452.5403594883783\n",
      "3426.208796062739\n",
      "3402.731496955265\n",
      "3384.1984716035104\n",
      "3368.556033804815\n",
      "3356.1249949495887\n",
      "3345.3968453767193\n",
      "3335.6741400885735\n",
      "3327.30497982952\n",
      "3319.1508381527624\n",
      "3311.453848973744\n",
      "3302.890508290216\n",
      "3294.2690961863036\n",
      "3286.024973029691\n",
      "3278.83580381824\n",
      "3271.4315031012366\n",
      "3264.1651392520193\n",
      "3257.274771199461\n",
      "3251.1911500335664\n",
      "3245.5663389374777\n",
      "3240.9980998039864\n",
      "3236.9311517693254\n",
      "3232.1694044661695\n",
      "3227.1027477481643\n",
      "3221.620824155747\n",
      "3216.6461643241987\n",
      "3212.254103379572\n",
      "3208.5313002532994\n",
      "3205.207304836913\n",
      "3201.8420298009814\n",
      "3198.8326602719585\n",
      "3195.269430006102\n",
      "3191.4142544939955\n",
      "3187.4049471841877\n",
      "3183.498095844657\n",
      "3179.8220411035536\n",
      "3176.3004474424447\n",
      "3172.711579825247\n",
      "3169.051394410017\n",
      "3165.7058715882254\n",
      "3162.683473205559\n",
      "3159.8708896030143\n",
      "3156.8131403084294\n",
      "3153.5266917491936\n",
      "3150.339452758816\n",
      "3147.0373144439486\n",
      "3143.645616430802\n",
      "3140.1123940225107\n",
      "3136.593677026403\n",
      "3133.2248711567186\n",
      "3129.924981222823\n",
      "3126.478161504359\n",
      "3123.070612759886\n",
      "3119.6624794289505\n",
      "3116.429887295764\n",
      "3113.249758178232\n",
      "3110.075491663332\n",
      "3107.12692702125\n",
      "3104.5911469972903\n",
      "3102.3278316524356\n",
      "3100.3452959926212\n",
      "3098.528605724974\n",
      "3096.5418684166807\n",
      "3094.2537775345504\n",
      "3091.952618814017\n",
      "3090.1064312066114\n",
      "3087.9896535918406\n",
      "3085.6507659742992\n",
      "3083.1809473783883\n",
      "3080.774404765998\n",
      "3078.6383183346593\n",
      "3076.8804285243104\n",
      "3075.051538820499\n",
      "3073.09278153925\n",
      "3071.3557598704724\n",
      "3069.752220670327\n",
      "3068.307150285953\n",
      "3067.260794950611\n",
      "3066.373819201461\n",
      "3065.6637311203913\n",
      "3064.9846232223213\n",
      "3064.090831425788\n",
      "3063.1192663462966\n",
      "3062.129699498281\n",
      "3061.1098239664884\n",
      "3060.1842580874445\n",
      "3059.4914525396034\n",
      "3058.864506328591\n",
      "3057.9874140167453\n",
      "3056.9080751159445\n",
      "3055.7413308299497\n",
      "3054.3269461726313\n",
      "3052.7570054273515\n",
      "3051.17311883767\n",
      "3049.620418272048\n",
      "3048.070026181881\n",
      "3046.460385482328\n",
      "3045.106873312526\n",
      "3043.8550604520983\n",
      "3042.713133506626\n",
      "3041.6002828956953\n",
      "3040.5875201786184\n",
      "3039.7098481877906\n",
      "3038.932465916956\n",
      "3038.0427877392212\n",
      "3037.2243593000253\n",
      "3036.4267795563305\n",
      "3035.5862020068457\n",
      "3034.8477734918242\n",
      "3034.0914547207212\n",
      "3033.001492528283\n",
      "3031.9086540689837\n",
      "3030.9419158529495\n",
      "3030.017849838342\n",
      "3029.112524349917\n",
      "3028.2312472643234\n",
      "3027.418480649433\n",
      "3026.6115648958785\n",
      "3025.8803713571165\n",
      "3024.986293627961\n",
      "3024.0788724536196\n",
      "3023.213827249339\n",
      "3022.251176662944\n",
      "3021.385847942355\n",
      "3020.6413208901454\n",
      "3020.0248958364095\n",
      "3019.490011077594\n",
      "3018.957314950464\n",
      "3018.512491319826\n",
      "3018.101916085891\n",
      "3017.692519883375\n",
      "3017.25033404327\n",
      "3016.754328927507\n",
      "3016.2189099352217\n",
      "3015.6202742072464\n",
      "3014.996827828135\n",
      "3014.4019371196887\n",
      "3013.783067119231\n",
      "3013.133158737245\n",
      "3012.528589718729\n",
      "3011.924513068843\n",
      "3011.2803790987527\n",
      "3010.585230282931\n",
      "3009.9093155400533\n",
      "3009.2761585442568\n",
      "3008.8359604551006\n",
      "3008.446337094093\n",
      "3008.1141431665164\n",
      "3007.7913251634523\n",
      "3007.498351641691\n",
      "3007.291444901498\n",
      "3007.153451606225\n",
      "3007.0471814133007\n",
      "3006.878704327262\n",
      "3006.729918034233\n",
      "3006.5900645632946\n",
      "3006.402967435501\n",
      "3006.1942552152955\n",
      "3006.0006096561924\n",
      "3005.8292548556674\n",
      "3005.6158614479245\n",
      "3005.398994214099\n",
      "3005.209786738321\n",
      "3005.1029681666296\n",
      "3005.018542001036\n",
      "3004.937682056477\n",
      "3004.8680324697025\n",
      "3004.7716016681766\n",
      "3004.636955120377\n",
      "3004.53189650153\n",
      "3004.402101259099\n",
      "3004.2417941975136\n",
      "3004.090711582532\n",
      "3003.9303163526506\n",
      "3003.739838446333\n",
      "3003.539009364707\n",
      "3003.326171167048\n",
      "3003.169428026064\n",
      "3002.98055713327\n",
      "3002.775114231744\n",
      "3002.547935004028\n",
      "3002.3268425307065\n",
      "3002.090289887728\n",
      "3001.8236255161482\n",
      "3001.542655461432\n",
      "3001.274049587433\n",
      "3001.0176091318854\n",
      "3000.7987532940692\n",
      "3000.6855382356084\n",
      "3000.5640124537326\n",
      "3000.4101652151107\n",
      "3000.329953220644\n",
      "3000.265028171735\n",
      "3000.149550051351\n",
      "3000.0126732675008\n",
      "2999.848658069128\n",
      "2999.684974628317\n",
      "2999.472810902124\n",
      "2999.2661880967757\n",
      "2999.061592071377\n",
      "2998.887659880013\n",
      "2998.7129921232095\n",
      "2998.5281410268963\n",
      "2998.3325429484435\n",
      "2998.1268570556317\n",
      "2997.9426400821335\n",
      "2997.795715365375\n",
      "2997.6412286311142\n",
      "2997.48579627173\n",
      "2997.3533347364773\n",
      "2997.256832976116\n",
      "2997.2029555555387\n",
      "2997.177382715164\n",
      "2997.167279630594\n",
      "2997.1826532680584\n"
     ]
    }
   ],
   "source": [
    "coords = scale_down(data)"
   ],
   "metadata": {
    "collapsed": false,
    "ExecuteTime": {
     "end_time": "2023-07-14T06:37:04.178898Z",
     "start_time": "2023-07-14T06:37:01.118737Z"
    }
   }
  },
  {
   "cell_type": "code",
   "execution_count": 17,
   "outputs": [],
   "source": [
    "draw2d(coords, blognames, jpeg=\"blogs2d.jpg\")"
   ],
   "metadata": {
    "collapsed": false,
    "ExecuteTime": {
     "end_time": "2023-07-14T06:42:09.790232Z",
     "start_time": "2023-07-14T06:42:09.704286Z"
    }
   }
  }
 ],
 "metadata": {
  "kernelspec": {
   "display_name": "Python 3 (ipykernel)",
   "language": "python",
   "name": "python3"
  },
  "language_info": {
   "codemirror_mode": {
    "name": "ipython",
    "version": 3
   },
   "file_extension": ".py",
   "mimetype": "text/x-python",
   "name": "python",
   "nbconvert_exporter": "python",
   "pygments_lexer": "ipython3",
   "version": "3.10.12"
  }
 },
 "nbformat": 4,
 "nbformat_minor": 5
}
