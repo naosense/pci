{
 "cells": [
  {
   "cell_type": "code",
   "execution_count": 1,
   "metadata": {
    "collapsed": true,
    "ExecuteTime": {
     "end_time": "2023-07-10T03:26:25.632266Z",
     "start_time": "2023-07-10T03:26:25.627149Z"
    }
   },
   "outputs": [],
   "source": [
    "critics = {\n",
    "    'Lisa Rose': {\n",
    "        'Lady in the Water': 2.5,\n",
    "        'Snakes on a Plane': 3.5,\n",
    "        'Just My Luck': 3.0,\n",
    "        'Superman Returns': 3.5,\n",
    "        'You, Me and Dupree': 2.5,\n",
    "        'The Night Listener': 3.0,\n",
    "    },\n",
    "    'Gene Seymour': {\n",
    "        'Lady in the Water': 3.0,\n",
    "        'Snakes on a Plane': 3.5,\n",
    "        'Just My Luck': 1.5,\n",
    "        'Superman Returns': 5.0,\n",
    "        'The Night Listener': 3.0,\n",
    "        'You, Me and Dupree': 3.5,\n",
    "    },\n",
    "    'Michael Phillips': {\n",
    "        'Lady in the Water': 2.5,\n",
    "        'Snakes on a Plane': 3.0,\n",
    "        'Superman Returns': 3.5,\n",
    "        'The Night Listener': 4.0,\n",
    "    },\n",
    "    'Claudia Puig': {\n",
    "        'Snakes on a Plane': 3.5,\n",
    "        'Just My Luck': 3.0,\n",
    "        'The Night Listener': 4.5,\n",
    "        'Superman Returns': 4.0,\n",
    "        'You, Me and Dupree': 2.5,\n",
    "    },\n",
    "    'Mick LaSalle': {\n",
    "        'Lady in the Water': 3.0,\n",
    "        'Snakes on a Plane': 4.0,\n",
    "        'Just My Luck': 2.0,\n",
    "        'Superman Returns': 3.0,\n",
    "        'The Night Listener': 3.0,\n",
    "        'You, Me and Dupree': 2.0,\n",
    "    },\n",
    "    'Jack Matthews': {\n",
    "        'Lady in the Water': 3.0,\n",
    "        'Snakes on a Plane': 4.0,\n",
    "        'The Night Listener': 3.0,\n",
    "        'Superman Returns': 5.0,\n",
    "        'You, Me and Dupree': 3.5,\n",
    "    },\n",
    "    'Toby': {\n",
    "        'Snakes on a Plane': 4.5,\n",
    "        'You, Me and Dupree': 1.0,\n",
    "        'Superman Returns': 4.0,\n",
    "    },\n",
    "}\n"
   ]
  },
  {
   "cell_type": "code",
   "execution_count": 2,
   "outputs": [
    {
     "data": {
      "text/plain": "{'Lady in the Water': 2.5,\n 'Snakes on a Plane': 3.5,\n 'Just My Luck': 3.0,\n 'Superman Returns': 3.5,\n 'You, Me and Dupree': 2.5,\n 'The Night Listener': 3.0}"
     },
     "execution_count": 2,
     "metadata": {},
     "output_type": "execute_result"
    }
   ],
   "source": [
    "critics['Lisa Rose']"
   ],
   "metadata": {
    "collapsed": false,
    "ExecuteTime": {
     "end_time": "2023-07-10T03:26:29.089941Z",
     "start_time": "2023-07-10T03:26:29.081771Z"
    }
   }
  },
  {
   "cell_type": "code",
   "execution_count": 3,
   "outputs": [
    {
     "data": {
      "text/plain": "1.118033988749895"
     },
     "execution_count": 3,
     "metadata": {},
     "output_type": "execute_result"
    }
   ],
   "source": [
    "from math import sqrt\n",
    "\n",
    "sqrt(pow(4.5 - 4, 2) + pow(1 - 2, 2))"
   ],
   "metadata": {
    "collapsed": false,
    "ExecuteTime": {
     "end_time": "2023-07-10T03:26:30.201108Z",
     "start_time": "2023-07-10T03:26:30.190981Z"
    }
   }
  },
  {
   "cell_type": "code",
   "execution_count": 4,
   "outputs": [
    {
     "data": {
      "text/plain": "0.8944271909999159"
     },
     "execution_count": 4,
     "metadata": {},
     "output_type": "execute_result"
    }
   ],
   "source": [
    "1 / sqrt(pow(4.5 - 4, 2) + pow(1 - 2, 2))"
   ],
   "metadata": {
    "collapsed": false,
    "ExecuteTime": {
     "end_time": "2023-07-10T03:26:32.503272Z",
     "start_time": "2023-07-10T03:26:32.494711Z"
    }
   }
  },
  {
   "cell_type": "markdown",
   "source": [
    "欧几里德相似度\n",
    "\n",
    "$$\\frac{1}{sqrt((x_1 - x_2)^2 + （y_1 - y_2)^2)}$$"
   ],
   "metadata": {
    "collapsed": false
   }
  },
  {
   "cell_type": "code",
   "execution_count": 5,
   "outputs": [],
   "source": [
    "# 返回person1和person2基于距离的相似度评价\n",
    "def sim_distance(prefs: dict[str, dict[str, float]], person1: str, person2: str) -> float:\n",
    "    # 得到共同评价过得列表\n",
    "    si = {}\n",
    "    for item in prefs[person1]:\n",
    "        if item in prefs[person2]:\n",
    "            si[item] = 1\n",
    "\n",
    "    # 如果两者没有共同之处，返回0\n",
    "    if not si: return 0\n",
    "\n",
    "    # 计算平方和\n",
    "    sum_of_squares = sum([pow(prefs[person1][item] - prefs[person2][item], 2)\n",
    "                          for item in prefs[person1] if item in prefs[person2]])\n",
    "\n",
    "    return 1 / (1 + sqrt(sum_of_squares))"
   ],
   "metadata": {
    "collapsed": false,
    "ExecuteTime": {
     "end_time": "2023-07-10T03:26:35.416405Z",
     "start_time": "2023-07-10T03:26:35.411448Z"
    }
   }
  },
  {
   "cell_type": "code",
   "execution_count": 6,
   "outputs": [
    {
     "data": {
      "text/plain": "0.29429805508554946"
     },
     "execution_count": 6,
     "metadata": {},
     "output_type": "execute_result"
    }
   ],
   "source": [
    "sim_distance(critics, 'Lisa Rose', 'Gene Seymour')"
   ],
   "metadata": {
    "collapsed": false,
    "ExecuteTime": {
     "end_time": "2023-07-10T03:26:36.376949Z",
     "start_time": "2023-07-10T03:26:36.372266Z"
    }
   }
  },
  {
   "cell_type": "markdown",
   "source": [
    "皮尔逊相关系数\n",
    "\n"
   ],
   "metadata": {
    "collapsed": false
   }
  },
  {
   "cell_type": "code",
   "execution_count": 7,
   "outputs": [],
   "source": [
    "def sim_pearson(prefs: dict[str, dict[str, float]], person1: str, person2: str) -> float:\n",
    "    # 得到双方都评价过得物品列表\n",
    "    si = {}\n",
    "\n",
    "    for item in prefs[person1]:\n",
    "        if item in prefs[person2]:\n",
    "            si[item] = 1\n",
    "\n",
    "    if not si:\n",
    "        return 1\n",
    "\n",
    "    sum1 = sum([prefs[person1][it] for it in si])\n",
    "    sum2 = sum([prefs[person2][it] for it in si])\n",
    "\n",
    "    sum1sq = sum([pow(prefs[person1][it], 2) for it in si])\n",
    "    sum2sq = sum([pow(prefs[person2][it], 2) for it in si])\n",
    "\n",
    "    psum = sum([prefs[person1][it] * prefs[person2][it] for it in si])\n",
    "\n",
    "    n = len(si)\n",
    "    num = psum - (sum1 * sum2 / n)\n",
    "    den = sqrt((sum1sq - pow(sum1, 2) / n) * (sum2sq - pow(sum2, 2) / n))\n",
    "    if den == 0: return 0\n",
    "\n",
    "    r = num / den\n",
    "    return r"
   ],
   "metadata": {
    "collapsed": false,
    "ExecuteTime": {
     "end_time": "2023-07-10T03:35:59.062638Z",
     "start_time": "2023-07-10T03:35:59.062157Z"
    }
   }
  },
  {
   "cell_type": "code",
   "execution_count": 8,
   "outputs": [
    {
     "data": {
      "text/plain": "0.39605901719066977"
     },
     "execution_count": 8,
     "metadata": {},
     "output_type": "execute_result"
    }
   ],
   "source": [
    "sim_pearson(critics, 'Lisa Rose', 'Gene Seymour')"
   ],
   "metadata": {
    "collapsed": false,
    "ExecuteTime": {
     "end_time": "2023-07-10T03:36:33.172756Z",
     "start_time": "2023-07-10T03:36:33.082645Z"
    }
   }
  },
  {
   "cell_type": "code",
   "execution_count": null,
   "outputs": [],
   "source": [],
   "metadata": {
    "collapsed": false
   }
  }
 ],
 "metadata": {
  "kernelspec": {
   "display_name": "Python 3",
   "language": "python",
   "name": "python3"
  },
  "language_info": {
   "codemirror_mode": {
    "name": "ipython",
    "version": 2
   },
   "file_extension": ".py",
   "mimetype": "text/x-python",
   "name": "python",
   "nbconvert_exporter": "python",
   "pygments_lexer": "ipython2",
   "version": "2.7.6"
  }
 },
 "nbformat": 4,
 "nbformat_minor": 0
}
