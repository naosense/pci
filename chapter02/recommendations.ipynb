{
 "cells": [
  {
   "cell_type": "code",
   "execution_count": 1,
   "outputs": [],
   "source": [
    "%matplotlib inline\n",
    "import matplotlib.pyplot as plt\n",
    "import numpy as np\n",
    "\n",
    "plt.style.use(\"seaborn-v0_8\")\n",
    "plt.rcParams[\"font.family\"] = [\"Arial Unicode MS\"]  # 用来正常显示中文标签\n",
    "plt.rcParams[\"axes.unicode_minus\"] = False  # 用来正常显示负号"
   ],
   "metadata": {
    "collapsed": false,
    "ExecuteTime": {
     "end_time": "2023-07-11T05:04:38.006268Z",
     "start_time": "2023-07-11T05:04:37.478283Z"
    }
   }
  },
  {
   "cell_type": "code",
   "execution_count": 2,
   "outputs": [],
   "source": [
    "critics = {\n",
    "    \"Lisa Rose\": {\n",
    "        \"Lady in the Water\": 2.5,\n",
    "        \"Snakes on a Plane\": 3.5,\n",
    "        \"Just My Luck\": 3.0,\n",
    "        \"Superman Returns\": 3.5,\n",
    "        \"You, Me and Dupree\": 2.5,\n",
    "        \"The Night Listener\": 3.0,\n",
    "    },\n",
    "    \"Gene Seymour\": {\n",
    "        \"Lady in the Water\": 3.0,\n",
    "        \"Snakes on a Plane\": 3.5,\n",
    "        \"Just My Luck\": 1.5,\n",
    "        \"Superman Returns\": 5.0,\n",
    "        \"The Night Listener\": 3.0,\n",
    "        \"You, Me and Dupree\": 3.5,\n",
    "    },\n",
    "    \"Michael Phillips\": {\n",
    "        \"Lady in the Water\": 2.5,\n",
    "        \"Snakes on a Plane\": 3.0,\n",
    "        \"Superman Returns\": 3.5,\n",
    "        \"The Night Listener\": 4.0,\n",
    "    },\n",
    "    \"Claudia Puig\": {\n",
    "        \"Snakes on a Plane\": 3.5,\n",
    "        \"Just My Luck\": 3.0,\n",
    "        \"The Night Listener\": 4.5,\n",
    "        \"Superman Returns\": 4.0,\n",
    "        \"You, Me and Dupree\": 2.5,\n",
    "    },\n",
    "    \"Mick LaSalle\": {\n",
    "        \"Lady in the Water\": 3.0,\n",
    "        \"Snakes on a Plane\": 4.0,\n",
    "        \"Just My Luck\": 2.0,\n",
    "        \"Superman Returns\": 3.0,\n",
    "        \"The Night Listener\": 3.0,\n",
    "        \"You, Me and Dupree\": 2.0,\n",
    "    },\n",
    "    \"Jack Matthews\": {\n",
    "        \"Lady in the Water\": 3.0,\n",
    "        \"Snakes on a Plane\": 4.0,\n",
    "        \"The Night Listener\": 3.0,\n",
    "        \"Superman Returns\": 5.0,\n",
    "        \"You, Me and Dupree\": 3.5,\n",
    "    },\n",
    "    \"Toby\": {\n",
    "        \"Snakes on a Plane\": 4.5,\n",
    "        \"You, Me and Dupree\": 1.0,\n",
    "        \"Superman Returns\": 4.0,\n",
    "    },\n",
    "}"
   ],
   "metadata": {
    "collapsed": false,
    "ExecuteTime": {
     "end_time": "2023-07-11T05:04:38.010198Z",
     "start_time": "2023-07-11T05:04:38.008699Z"
    }
   }
  },
  {
   "cell_type": "code",
   "execution_count": 3,
   "outputs": [
    {
     "data": {
      "text/plain": "{'Lady in the Water': 2.5,\n 'Snakes on a Plane': 3.5,\n 'Just My Luck': 3.0,\n 'Superman Returns': 3.5,\n 'You, Me and Dupree': 2.5,\n 'The Night Listener': 3.0}"
     },
     "execution_count": 3,
     "metadata": {},
     "output_type": "execute_result"
    }
   ],
   "source": [
    "critics[\"Lisa Rose\"]"
   ],
   "metadata": {
    "collapsed": false,
    "ExecuteTime": {
     "end_time": "2023-07-11T05:04:38.014340Z",
     "start_time": "2023-07-11T05:04:38.011717Z"
    }
   }
  },
  {
   "cell_type": "code",
   "execution_count": 4,
   "outputs": [
    {
     "data": {
      "text/plain": "1.118033988749895"
     },
     "execution_count": 4,
     "metadata": {},
     "output_type": "execute_result"
    }
   ],
   "source": [
    "from math import sqrt\n",
    "\n",
    "sqrt(pow(4.5 - 4, 2) + pow(1 - 2, 2))"
   ],
   "metadata": {
    "collapsed": false,
    "ExecuteTime": {
     "end_time": "2023-07-11T05:04:38.017778Z",
     "start_time": "2023-07-11T05:04:38.014806Z"
    }
   }
  },
  {
   "cell_type": "code",
   "execution_count": 5,
   "outputs": [
    {
     "data": {
      "text/plain": "0.8944271909999159"
     },
     "execution_count": 5,
     "metadata": {},
     "output_type": "execute_result"
    }
   ],
   "source": [
    "1 / sqrt(pow(4.5 - 4, 2) + pow(1 - 2, 2))"
   ],
   "metadata": {
    "collapsed": false,
    "ExecuteTime": {
     "end_time": "2023-07-11T05:04:38.021734Z",
     "start_time": "2023-07-11T05:04:38.019139Z"
    }
   }
  },
  {
   "cell_type": "markdown",
   "source": [
    "欧几里德相似度\n",
    "\n",
    "$$\\frac{1}{1 + \\sqrt{(x_1 - x_2)^2 + （y_1 - y_2)^2}}$$\n",
    "\n",
    "这一函数总是返回0~1的值，返回1表示两人具有一样的偏好"
   ],
   "metadata": {
    "collapsed": false
   }
  },
  {
   "cell_type": "code",
   "execution_count": 61,
   "outputs": [
    {
     "name": "stdout",
     "output_type": "stream",
     "text": [
      "Lisa Rose           : (2.5, 3.5)\n",
      "Gene Seymour        : (3.5, 3.5)\n",
      "Claudia Puig        : (2.5, 3.5)\n",
      "Mick LaSalle        : (2.0, 4.0)\n",
      "Jack Matthews       : (3.5, 4.0)\n",
      "Toby                : (1.0, 4.5)\n"
     ]
    },
    {
     "data": {
      "text/plain": "<Figure size 800x550 with 1 Axes>",
      "image/png": "[encoded data removed]"
     },
     "metadata": {},
     "output_type": "display_data"
    }
   ],
   "source": [
    "import random\n",
    "\n",
    "x = []\n",
    "y = []\n",
    "users = []\n",
    "for user, item in critics.items():\n",
    "    added = False\n",
    "    for m, s in item.items():\n",
    "        if \"Snakes on a Plane\" not in item or \"You, Me and Dupree\" not in item:\n",
    "            continue\n",
    "        if not added:\n",
    "            users.append(user)\n",
    "            added = True\n",
    "        match m:\n",
    "            case \"Snakes on a Plane\":\n",
    "                y.append(s)\n",
    "            case \"You, Me and Dupree\":\n",
    "                x.append(s)\n",
    "            case _:\n",
    "                pass\n",
    "plt.scatter(x, y)\n",
    "b, a = np.polyfit(x, y, deg=1)\n",
    "xseq = np.linspace(0.5, 5, num=100)\n",
    "plt.plot(xseq, a + b * xseq, color=\"k\")\n",
    "plt.xlabel(\"You, Me and Dupree\")\n",
    "plt.ylabel(\"Snakes on a Plane\")\n",
    "offset = 0.2\n",
    "for x, y, user in zip(x, y, users):\n",
    "    print(f\"{user: <20}: ({x:.1f}, {y:.1f})\")\n",
    "    jitter = (random.random() - 0.5) * offset\n",
    "    plt.text(x + jitter, y + jitter, user, ha=\"right\")"
   ],
   "metadata": {
    "collapsed": false,
    "ExecuteTime": {
     "end_time": "2023-07-11T07:21:40.594004Z",
     "start_time": "2023-07-11T07:21:40.412924Z"
    }
   }
  },
  {
   "cell_type": "code",
   "execution_count": 7,
   "outputs": [],
   "source": [
    "# 返回person1和person2基于距离的相似度评价\n",
    "def sim_distance(\n",
    "    prefs: dict[str, dict[str, float]], person1: str, person2: str\n",
    ") -> float:\n",
    "    # 得到共同评价过得列表\n",
    "    si = {}\n",
    "    for item in prefs[person1]:\n",
    "        if item in prefs[person2]:\n",
    "            si[item] = 1\n",
    "\n",
    "    # 如果两者没有共同之处，返回0\n",
    "    if not si:\n",
    "        return 0\n",
    "\n",
    "    # 计算平方和\n",
    "    sum_of_squares = sum(\n",
    "        [\n",
    "            pow(prefs[person1][item] - prefs[person2][item], 2)\n",
    "            for item in prefs[person1]\n",
    "            if item in prefs[person2]\n",
    "        ]\n",
    "    )\n",
    "\n",
    "    return 1 / (1 + sqrt(sum_of_squares))"
   ],
   "metadata": {
    "collapsed": false,
    "ExecuteTime": {
     "end_time": "2023-07-11T05:04:38.116946Z",
     "start_time": "2023-07-11T05:04:38.111877Z"
    }
   }
  },
  {
   "cell_type": "code",
   "execution_count": 8,
   "outputs": [
    {
     "data": {
      "text/plain": "0.29429805508554946"
     },
     "execution_count": 8,
     "metadata": {},
     "output_type": "execute_result"
    }
   ],
   "source": [
    "sim_distance(critics, \"Lisa Rose\", \"Gene Seymour\")"
   ],
   "metadata": {
    "collapsed": false,
    "ExecuteTime": {
     "end_time": "2023-07-11T05:04:38.117204Z",
     "start_time": "2023-07-11T05:04:38.114333Z"
    }
   }
  },
  {
   "cell_type": "markdown",
   "source": [
    "皮尔逊相关系数\n",
    "\n",
    "$$\\rho_{X, Y}=\\frac{\\operatorname{cov}(X, Y)}{\\sigma_X \\sigma_Y}=\\frac{E\\left[\\left(X-\\mu_X\\right)\\left(Y-\\mu_Y\\right)\\right]}{\\sigma_X \\sigma_Y}$$\n",
    "\n",
    "判断两组数据与某一直线拟合程度的度量。比上面的欧几里德距离要复杂，但是在数据不是很规范（如含有异常值）倾向给出更好的结果。"
   ],
   "metadata": {
    "collapsed": false
   }
  },
  {
   "cell_type": "code",
   "execution_count": 9,
   "outputs": [],
   "source": [
    "def sim_pearson(\n",
    "    prefs: dict[str, dict[str, float]], person1: str, person2: str\n",
    ") -> float:\n",
    "    # 得到双方都评价过得物品列表\n",
    "    si = {}\n",
    "\n",
    "    for item in prefs[person1]:\n",
    "        if item in prefs[person2]:\n",
    "            si[item] = 1\n",
    "\n",
    "    if not si:\n",
    "        return 1\n",
    "\n",
    "    sum1 = sum([prefs[person1][it] for it in si])\n",
    "    sum2 = sum([prefs[person2][it] for it in si])\n",
    "\n",
    "    sum1sq = sum([pow(prefs[person1][it], 2) for it in si])\n",
    "    sum2sq = sum([pow(prefs[person2][it], 2) for it in si])\n",
    "\n",
    "    psum = sum([prefs[person1][it] * prefs[person2][it] for it in si])\n",
    "\n",
    "    n = len(si)\n",
    "    num = psum - (sum1 * sum2 / n)\n",
    "    den = sqrt((sum1sq - pow(sum1, 2) / n) * (sum2sq - pow(sum2, 2) / n))\n",
    "    if den == 0:\n",
    "        return 0\n",
    "\n",
    "    r = num / den\n",
    "    return r"
   ],
   "metadata": {
    "collapsed": false,
    "ExecuteTime": {
     "end_time": "2023-07-11T05:04:38.121556Z",
     "start_time": "2023-07-11T05:04:38.119098Z"
    }
   }
  },
  {
   "cell_type": "code",
   "execution_count": 10,
   "outputs": [
    {
     "data": {
      "text/plain": "0.39605901719066977"
     },
     "execution_count": 10,
     "metadata": {},
     "output_type": "execute_result"
    }
   ],
   "source": [
    "sim_pearson(critics, \"Lisa Rose\", \"Gene Seymour\")"
   ],
   "metadata": {
    "collapsed": false,
    "ExecuteTime": {
     "end_time": "2023-07-11T05:04:38.124693Z",
     "start_time": "2023-07-11T05:04:38.122095Z"
    }
   }
  },
  {
   "cell_type": "code",
   "execution_count": 11,
   "outputs": [],
   "source": [
    "# 从反映偏好的字典中返回最佳匹配者\n",
    "def top_matches(\n",
    "    prefs: dict[str, dict[str, float]],\n",
    "    person: str,\n",
    "    n: int = 5,\n",
    "    similarity: callable = sim_pearson,\n",
    ") -> list[tuple[float, str]]:\n",
    "    scores = [\n",
    "        (similarity(prefs, person, other), other) for other in prefs if other != person\n",
    "    ]\n",
    "\n",
    "    scores.sort(reverse=True)\n",
    "    return scores[0:n]"
   ],
   "metadata": {
    "collapsed": false,
    "ExecuteTime": {
     "end_time": "2023-07-11T05:04:38.128831Z",
     "start_time": "2023-07-11T05:04:38.125637Z"
    }
   }
  },
  {
   "cell_type": "code",
   "execution_count": 12,
   "outputs": [
    {
     "data": {
      "text/plain": "[(0.9912407071619299, 'Lisa Rose'),\n (0.9244734516419049, 'Mick LaSalle'),\n (0.8934051474415647, 'Claudia Puig')]"
     },
     "execution_count": 12,
     "metadata": {},
     "output_type": "execute_result"
    }
   ],
   "source": [
    "top_matches(critics, \"Toby\", n=3)"
   ],
   "metadata": {
    "collapsed": false,
    "ExecuteTime": {
     "end_time": "2023-07-11T05:04:38.204451Z",
     "start_time": "2023-07-11T05:04:38.129060Z"
    }
   }
  },
  {
   "cell_type": "code",
   "execution_count": 13,
   "outputs": [
    {
     "data": {
      "text/plain": "[(0.4, 'Mick LaSalle'),\n (0.38742588672279304, 'Michael Phillips'),\n (0.3567891723253309, 'Claudia Puig')]"
     },
     "execution_count": 13,
     "metadata": {},
     "output_type": "execute_result"
    }
   ],
   "source": [
    "top_matches(critics, \"Toby\", n=3, similarity=sim_distance)"
   ],
   "metadata": {
    "collapsed": false,
    "ExecuteTime": {
     "end_time": "2023-07-11T05:04:38.204663Z",
     "start_time": "2023-07-11T05:04:38.131340Z"
    }
   }
  },
  {
   "cell_type": "code",
   "execution_count": 14,
   "outputs": [],
   "source": [
    "def get_recommendations(\n",
    "    prefs: dict[str, dict[str, float]], person: str, similarity: callable = sim_pearson\n",
    ") -> list[tuple[float, str]]:\n",
    "    totals = {}\n",
    "    sim_sums = {}\n",
    "    for other in prefs:\n",
    "        # 不和自己比较\n",
    "        if other == person:\n",
    "            continue\n",
    "        sim = similarity(prefs, person, other)\n",
    "        # 忽略评价值小与0的情况，什么时候出现这种情况？\n",
    "        if sim <= 0:\n",
    "            continue\n",
    "        for item in prefs[other]:\n",
    "            # 只对自己还未看过的影片评价\n",
    "            if item not in prefs[person] or prefs[person][item] == 0:\n",
    "                totals.setdefault(item, 0)\n",
    "                totals[item] += prefs[other][item] * sim\n",
    "                sim_sums.setdefault(item, 0)\n",
    "                sim_sums[item] += sim\n",
    "\n",
    "    # 建立一个归一化的列表\n",
    "    rankings = [(total / sim_sums[item], item) for item, total in totals.items()]\n",
    "\n",
    "    rankings.sort(reverse=True)\n",
    "    return rankings"
   ],
   "metadata": {
    "collapsed": false,
    "ExecuteTime": {
     "end_time": "2023-07-11T05:04:38.204799Z",
     "start_time": "2023-07-11T05:04:38.151024Z"
    }
   }
  },
  {
   "cell_type": "code",
   "execution_count": 15,
   "outputs": [
    {
     "data": {
      "text/plain": "[(3.3477895267131017, 'The Night Listener'),\n (2.8325499182641614, 'Lady in the Water'),\n (2.530980703765565, 'Just My Luck')]"
     },
     "execution_count": 15,
     "metadata": {},
     "output_type": "execute_result"
    }
   ],
   "source": [
    "get_recommendations(critics, \"Toby\")"
   ],
   "metadata": {
    "collapsed": false,
    "ExecuteTime": {
     "end_time": "2023-07-11T05:04:38.204862Z",
     "start_time": "2023-07-11T05:04:38.151296Z"
    }
   }
  },
  {
   "cell_type": "code",
   "execution_count": 16,
   "outputs": [
    {
     "data": {
      "text/plain": "[(3.457128694491423, 'The Night Listener'),\n (2.778584003814924, 'Lady in the Water'),\n (2.422482042361917, 'Just My Luck')]"
     },
     "execution_count": 16,
     "metadata": {},
     "output_type": "execute_result"
    }
   ],
   "source": [
    "get_recommendations(critics, \"Toby\", similarity=sim_distance)"
   ],
   "metadata": {
    "collapsed": false,
    "ExecuteTime": {
     "end_time": "2023-07-11T05:04:38.204942Z",
     "start_time": "2023-07-11T05:04:38.151357Z"
    }
   }
  },
  {
   "cell_type": "code",
   "execution_count": 17,
   "outputs": [],
   "source": [
    "def transform_prefs(prefs: dict[str, dict[str, float]]) -> dict[str, dict[str, float]]:\n",
    "    result = {}\n",
    "    for person in prefs:\n",
    "        for item in prefs[person]:\n",
    "            result.setdefault(item, {})\n",
    "            result[item][person] = prefs[person][item]\n",
    "\n",
    "    return result"
   ],
   "metadata": {
    "collapsed": false,
    "ExecuteTime": {
     "end_time": "2023-07-11T05:04:38.204981Z",
     "start_time": "2023-07-11T05:04:38.153957Z"
    }
   }
  },
  {
   "cell_type": "code",
   "execution_count": 18,
   "outputs": [],
   "source": [
    "movies = transform_prefs(critics)"
   ],
   "metadata": {
    "collapsed": false,
    "ExecuteTime": {
     "end_time": "2023-07-11T05:04:38.205025Z",
     "start_time": "2023-07-11T05:04:38.156196Z"
    }
   }
  },
  {
   "cell_type": "code",
   "execution_count": 19,
   "outputs": [
    {
     "data": {
      "text/plain": "[(0.6579516949597695, 'You, Me and Dupree'),\n (0.4879500364742689, 'Lady in the Water'),\n (0.11180339887498941, 'Snakes on a Plane'),\n (-0.1798471947990544, 'The Night Listener'),\n (-0.42289003161103106, 'Just My Luck')]"
     },
     "execution_count": 19,
     "metadata": {},
     "output_type": "execute_result"
    }
   ],
   "source": [
    "top_matches(movies, \"Superman Returns\")"
   ],
   "metadata": {
    "collapsed": false,
    "ExecuteTime": {
     "end_time": "2023-07-11T05:04:38.205083Z",
     "start_time": "2023-07-11T05:04:38.158810Z"
    }
   }
  },
  {
   "cell_type": "markdown",
   "source": [
    "评分为负数的说明喜欢Superman Returns的人，存在不喜欢Just My Luck的倾向。上面为影片推荐相关影片，我们还可以为影片推荐评论者。例如，也许我们正在考虑邀请谁和自己一起参加某部影片的首映式。"
   ],
   "metadata": {
    "collapsed": false
   }
  },
  {
   "cell_type": "code",
   "execution_count": 20,
   "outputs": [
    {
     "data": {
      "text/plain": "[(4.0, 'Michael Phillips'), (3.0, 'Jack Matthews')]"
     },
     "execution_count": 20,
     "metadata": {},
     "output_type": "execute_result"
    }
   ],
   "source": [
    "get_recommendations(movies, \"Just My Luck\")"
   ],
   "metadata": {
    "collapsed": false,
    "ExecuteTime": {
     "end_time": "2023-07-11T05:04:38.205139Z",
     "start_time": "2023-07-11T05:04:38.162457Z"
    }
   }
  },
  {
   "cell_type": "markdown",
   "source": [
    "以上是UserCF，下面是ItemCF"
   ],
   "metadata": {
    "collapsed": false
   }
  },
  {
   "cell_type": "code",
   "execution_count": 21,
   "outputs": [],
   "source": [
    "def calculate_similar_items(\n",
    "    prefs: dict[\n",
    "        str,\n",
    "        dict[str, float],\n",
    "    ],\n",
    "    n: int = 10,\n",
    ") -> dict[str, list[tuple[float, str]]]:\n",
    "    result = {}\n",
    "\n",
    "    item_prefs = transform_prefs(prefs)\n",
    "    c = 0\n",
    "    for item in item_prefs:\n",
    "        c += 1\n",
    "        if c % 100 == 0:\n",
    "            print(f\"{c} / {len(item_prefs)}\")\n",
    "        scores = top_matches(item_prefs, item, n=n, similarity=sim_distance)\n",
    "        result[item] = scores\n",
    "\n",
    "    return result"
   ],
   "metadata": {
    "collapsed": false,
    "ExecuteTime": {
     "end_time": "2023-07-11T05:04:38.205176Z",
     "start_time": "2023-07-11T05:04:38.169271Z"
    }
   }
  },
  {
   "cell_type": "code",
   "execution_count": 22,
   "outputs": [
    {
     "data": {
      "text/plain": "{'Lady in the Water': [(0.4494897427831781, 'You, Me and Dupree'),\n  (0.38742588672279304, 'The Night Listener'),\n  (0.3483314773547883, 'Snakes on a Plane'),\n  (0.3483314773547883, 'Just My Luck'),\n  (0.2402530733520421, 'Superman Returns')],\n 'Snakes on a Plane': [(0.3483314773547883, 'Lady in the Water'),\n  (0.32037724101704074, 'The Night Listener'),\n  (0.3090169943749474, 'Superman Returns'),\n  (0.2553967929896867, 'Just My Luck'),\n  (0.1886378647726465, 'You, Me and Dupree')],\n 'Just My Luck': [(0.3483314773547883, 'Lady in the Water'),\n  (0.32037724101704074, 'You, Me and Dupree'),\n  (0.2989350844248255, 'The Night Listener'),\n  (0.2553967929896867, 'Snakes on a Plane'),\n  (0.20799159651347807, 'Superman Returns')],\n 'Superman Returns': [(0.3090169943749474, 'Snakes on a Plane'),\n  (0.252650308587072, 'The Night Listener'),\n  (0.2402530733520421, 'Lady in the Water'),\n  (0.20799159651347807, 'Just My Luck'),\n  (0.1918253663634734, 'You, Me and Dupree')],\n 'You, Me and Dupree': [(0.4494897427831781, 'Lady in the Water'),\n  (0.32037724101704074, 'Just My Luck'),\n  (0.29429805508554946, 'The Night Listener'),\n  (0.1918253663634734, 'Superman Returns'),\n  (0.1886378647726465, 'Snakes on a Plane')],\n 'The Night Listener': [(0.38742588672279304, 'Lady in the Water'),\n  (0.32037724101704074, 'Snakes on a Plane'),\n  (0.2989350844248255, 'Just My Luck'),\n  (0.29429805508554946, 'You, Me and Dupree'),\n  (0.252650308587072, 'Superman Returns')]}"
     },
     "execution_count": 22,
     "metadata": {},
     "output_type": "execute_result"
    }
   ],
   "source": [
    "itemsim = calculate_similar_items(critics)\n",
    "itemsim\n",
    "# 结果和书本不一样，对了好几遍代码，没发现哪里错了"
   ],
   "metadata": {
    "collapsed": false,
    "ExecuteTime": {
     "end_time": "2023-07-11T05:04:38.205244Z",
     "start_time": "2023-07-11T05:04:38.174136Z"
    }
   }
  },
  {
   "cell_type": "code",
   "execution_count": 23,
   "outputs": [],
   "source": [
    "def get_recommended_items(\n",
    "    prefs: dict[str, dict[str, float]],\n",
    "    item_match: dict[str, list[tuple[float, str]]],\n",
    "    user: str,\n",
    ") -> list[tuple[float, str]]:\n",
    "    user_ratings = prefs[user]\n",
    "    scores = {}\n",
    "    total_sim = {}\n",
    "\n",
    "    for item, rating in user_ratings.items():\n",
    "        for similarity, item2 in item_match[item]:\n",
    "            if item2 in user_ratings:\n",
    "                continue\n",
    "            scores.setdefault(item2, 0)\n",
    "            scores[item2] += similarity * rating\n",
    "\n",
    "            total_sim.setdefault(item2, 0)\n",
    "            total_sim[item2] += similarity\n",
    "\n",
    "    rankings = [(score / total_sim[item], item) for item, score in scores.items()]\n",
    "    rankings.sort(reverse=True)\n",
    "    return rankings"
   ],
   "metadata": {
    "collapsed": false,
    "ExecuteTime": {
     "end_time": "2023-07-11T05:04:38.205274Z",
     "start_time": "2023-07-11T05:04:38.179364Z"
    }
   }
  },
  {
   "cell_type": "code",
   "execution_count": 24,
   "outputs": [
    {
     "data": {
      "text/plain": "[(3.1667425234070894, 'The Night Listener'),\n (2.9366294028444346, 'Just My Luck'),\n (2.868767392626467, 'Lady in the Water')]"
     },
     "execution_count": 24,
     "metadata": {},
     "output_type": "execute_result"
    }
   ],
   "source": [
    "get_recommended_items(critics, itemsim, \"Toby\")"
   ],
   "metadata": {
    "collapsed": false,
    "ExecuteTime": {
     "end_time": "2023-07-11T05:04:38.205462Z",
     "start_time": "2023-07-11T05:04:38.183655Z"
    }
   }
  },
  {
   "cell_type": "code",
   "execution_count": 25,
   "outputs": [],
   "source": [
    "def load_movie_lens(path: str = \"movielens\") -> dict[str, float]:\n",
    "    movies = {}\n",
    "    for line in open(f\"{path}/u.item\", encoding=\"ISO-8859-1\"):\n",
    "        id, title = line.split(\"|\")[0:2]\n",
    "        movies[id] = title\n",
    "\n",
    "    prefs = {}\n",
    "    for line in open(f\"{path}/u.data\", encoding=\"ISO-8859-1\"):\n",
    "        user, movieid, rating, ts = line.split(\"\\t\")\n",
    "        prefs.setdefault(user, {})\n",
    "        prefs[user][movies[movieid]] = float(rating)\n",
    "    return prefs"
   ],
   "metadata": {
    "collapsed": false,
    "ExecuteTime": {
     "end_time": "2023-07-11T05:04:38.205541Z",
     "start_time": "2023-07-11T05:04:38.187278Z"
    }
   }
  },
  {
   "cell_type": "code",
   "execution_count": 26,
   "outputs": [
    {
     "data": {
      "text/plain": "{'Naked Gun 33 1/3: The Final Insult (1994)': 4.0,\n 'Con Air (1997)': 4.0,\n 'Sabrina (1995)': 4.0,\n 'Waterworld (1995)': 4.0,\n 'To Wong Foo, Thanks for Everything! Julie Newmar (1995)': 3.0,\n 'Clueless (1995)': 4.0,\n 'Jurassic Park (1993)': 5.0,\n 'Brady Bunch Movie, The (1995)': 2.0,\n 'Son in Law (1993)': 4.0,\n 'Indiana Jones and the Last Crusade (1989)': 5.0,\n 'Good, The Bad and The Ugly, The (1966)': 5.0,\n 'Dead Poets Society (1989)': 5.0,\n 'Dead Man Walking (1995)': 4.0,\n \"Joe's Apartment (1996)\": 2.0,\n 'GoldenEye (1995)': 4.0,\n 'M*A*S*H (1970)': 5.0,\n 'Something to Talk About (1995)': 2.0,\n 'Lightning Jack (1994)': 3.0,\n 'Big Green, The (1995)': 3.0,\n 'Cowboy Way, The (1994)': 3.0,\n \"Ulee's Gold (1997)\": 3.0,\n 'Addams Family Values (1993)': 2.0,\n '2001: A Space Odyssey (1968)': 5.0,\n 'Platoon (1986)': 3.0,\n 'Return of the Pink Panther, The (1974)': 4.0,\n 'Four Weddings and a Funeral (1994)': 5.0,\n 'Under Siege (1992)': 4.0,\n 'Ace Ventura: Pet Detective (1994)': 4.0,\n 'Die Hard: With a Vengeance (1995)': 4.0,\n 'Prefontaine (1997)': 5.0,\n 'Cops and Robbersons (1994)': 3.0,\n \"Pyromaniac's Love Story, A (1995)\": 3.0,\n 'Glory (1989)': 4.0,\n 'This Is Spinal Tap (1984)': 5.0,\n 'Multiplicity (1996)': 3.0,\n 'Tommy Boy (1995)': 4.0,\n 'Cool Hand Luke (1967)': 5.0,\n \"Monty Python's Life of Brian (1979)\": 4.0,\n 'Victor/Victoria (1982)': 4.0,\n 'Treasure of the Sierra Madre, The (1948)': 4.0,\n 'That Old Feeling (1997)': 4.0,\n 'Mrs. Doubtfire (1993)': 4.0,\n 'Professional, The (1994)': 4.0,\n 'True Lies (1994)': 5.0,\n 'Air Force One (1997)': 3.0,\n 'Speechless (1994)': 4.0,\n 'Sleepless in Seattle (1993)': 5.0,\n 'Young Frankenstein (1974)': 5.0,\n 'GoodFellas (1990)': 4.0,\n 'Fugitive, The (1993)': 5.0,\n 'In the Line of Fire (1993)': 5.0,\n 'Reality Bites (1994)': 3.0,\n 'Shadow, The (1994)': 3.0,\n 'Speed (1994)': 5.0,\n 'Batman Returns (1992)': 3.0,\n 'Conan the Barbarian (1981)': 3.0,\n 'Terminator 2: Judgment Day (1991)': 5.0,\n 'Strange Days (1995)': 3.0,\n 'Star Trek III: The Search for Spock (1984)': 4.0,\n \"Schindler's List (1993)\": 4.0,\n 'Sneakers (1992)': 4.0,\n 'Twelve Monkeys (1995)': 4.0,\n 'Switchblade Sisters (1975)': 2.0,\n 'Searching for Bobby Fischer (1993)': 4.0,\n 'Birdcage, The (1996)': 4.0,\n \"Singin' in the Rain (1952)\": 4.0,\n 'Shawshank Redemption, The (1994)': 5.0,\n 'Santa Clause, The (1994)': 4.0,\n 'Clear and Present Danger (1994)': 5.0,\n 'Dances with Wolves (1990)': 5.0,\n 'Deer Hunter, The (1978)': 3.0,\n 'Boot, Das (1981)': 4.0,\n 'Alien (1979)': 4.0,\n 'Speed 2: Cruise Control (1997)': 3.0,\n 'Maverick (1994)': 3.0,\n 'Jack (1996)': 3.0,\n 'Desperado (1995)': 3.0,\n 'Nutty Professor, The (1996)': 4.0,\n 'Batman (1989)': 3.0,\n 'Dave (1993)': 4.0,\n 'Crow, The (1994)': 3.0,\n 'Adventures of Robin Hood, The (1938)': 5.0,\n 'Blues Brothers, The (1980)': 5.0,\n 'Adventures of Priscilla, Queen of the Desert, The (1994)': 3.0,\n 'Raging Bull (1980)': 3.0,\n 'Batman & Robin (1997)': 4.0,\n 'Babe (1995)': 5.0,\n 'Raising Arizona (1987)': 3.0,\n 'Cliffhanger (1993)': 3.0,\n 'Top Gun (1986)': 5.0,\n 'Endless Summer 2, The (1994)': 3.0,\n 'Barcelona (1994)': 3.0,\n 'Twister (1996)': 4.0,\n 'Evil Dead II (1987)': 2.0,\n 'Sleepers (1996)': 4.0,\n 'Striptease (1996)': 2.0,\n 'Get Shorty (1995)': 5.0,\n 'So I Married an Axe Murderer (1993)': 2.0,\n 'Mission: Impossible (1996)': 4.0,\n 'Wizard of Oz, The (1939)': 5.0,\n 'Baby-Sitters Club, The (1995)': 2.0,\n 'When Harry Met Sally... (1989)': 5.0,\n 'Mother (1996)': 2.0,\n 'Star Trek IV: The Voyage Home (1986)': 5.0,\n 'Swimming with Sharks (1995)': 3.0,\n 'Net, The (1995)': 5.0,\n 'Private Benjamin (1980)': 4.0,\n 'Fargo (1996)': 5.0,\n 'Dumb & Dumber (1994)': 4.0,\n 'Stargate (1994)': 5.0,\n \"City Slickers II: The Legend of Curly's Gold (1994)\": 3.0,\n 'Hoop Dreams (1994)': 4.0,\n 'Young Guns (1988)': 3.0,\n 'Groundhog Day (1993)': 5.0,\n 'Bridge on the River Kwai, The (1957)': 5.0,\n 'Braveheart (1995)': 4.0,\n 'Vegas Vacation (1997)': 4.0,\n 'Michael (1996)': 4.0,\n 'Star Trek: The Wrath of Khan (1982)': 5.0,\n 'Muppet Treasure Island (1996)': 3.0,\n 'Nine Months (1995)': 4.0,\n 'Die Hard (1988)': 4.0,\n 'Bananas (1971)': 5.0,\n 'Forget Paris (1995)': 4.0,\n 'French Kiss (1995)': 5.0,\n 'Truth About Cats & Dogs, The (1996)': 4.0,\n 'Empire Strikes Back, The (1980)': 5.0,\n 'Dunston Checks In (1996)': 1.0,\n 'Star Trek: The Motion Picture (1979)': 3.0,\n 'Return of the Jedi (1983)': 5.0,\n 'Manchurian Candidate, The (1962)': 4.0,\n 'River Wild, The (1994)': 4.0,\n 'House Arrest (1996)': 3.0,\n 'Milk Money (1994)': 4.0,\n 'Godfather, The (1972)': 4.0,\n 'Low Down Dirty Shame, A (1994)': 3.0,\n 'Butch Cassidy and the Sundance Kid (1969)': 5.0,\n 'Wyatt Earp (1994)': 3.0,\n 'Star Wars (1977)': 5.0,\n 'To Kill a Mockingbird (1962)': 4.0,\n 'Magnificent Seven, The (1954)': 5.0,\n 'Back to the Future (1985)': 5.0,\n 'Hot Shots! Part Deux (1993)': 4.0,\n 'Great White Hype, The (1996)': 3.0,\n \"Dante's Peak (1997)\": 3.0,\n 'Matilda (1996)': 3.0,\n 'Junior (1994)': 4.0,\n 'Blade Runner (1982)': 4.0,\n 'Mars Attacks! (1996)': 3.0,\n 'My Favorite Year (1982)': 3.0,\n 'Broken Arrow (1996)': 3.0,\n 'Young Guns II (1990)': 2.0,\n 'Terminator, The (1984)': 5.0,\n 'Fish Called Wanda, A (1988)': 5.0,\n 'Down Periscope (1996)': 4.0,\n 'Hard Target (1993)': 4.0,\n 'Ed Wood (1994)': 3.0,\n 'Demolition Man (1993)': 3.0,\n 'Mask, The (1994)': 3.0,\n 'E.T. the Extra-Terrestrial (1982)': 3.0,\n 'Coneheads (1993)': 4.0,\n 'Man of the House (1995)': 3.0,\n 'That Thing You Do! (1996)': 4.0,\n 'Strictly Ballroom (1992)': 3.0,\n \"It's a Wonderful Life (1946)\": 5.0,\n 'Annie Hall (1977)': 4.0,\n 'Dragonheart (1996)': 4.0,\n 'Renaissance Man (1994)': 5.0,\n 'Kingpin (1996)': 4.0,\n 'In the Army Now (1994)': 4.0,\n 'Mighty Aphrodite (1995)': 3.0,\n \"Weekend at Bernie's (1989)\": 3.0,\n 'Clockwork Orange, A (1971)': 4.0,\n 'Heat (1995)': 3.0,\n 'Addicted to Love (1997)': 4.0,\n 'Program, The (1993)': 3.0,\n 'Grumpier Old Men (1995)': 4.0,\n 'Bad Boys (1995)': 4.0,\n 'American President, The (1995)': 5.0,\n 'Grease (1978)': 4.0,\n 'Full Metal Jacket (1987)': 4.0,\n 'Air Up There, The (1994)': 3.0,\n 'Home Alone (1990)': 4.0,\n 'Jimmy Hollywood (1994)': 3.0,\n 'I.Q. (1994)': 5.0,\n 'First Wives Club, The (1996)': 2.0,\n 'Boomerang (1992)': 3.0,\n 'Heathers (1989)': 3.0,\n 'While You Were Sleeping (1995)': 5.0,\n 'Star Trek: First Contact (1996)': 4.0,\n 'Independence Day (ID4) (1996)': 5.0,\n 'Lost World: Jurassic Park, The (1997)': 3.0,\n 'Raiders of the Lost Ark (1981)': 5.0,\n 'To Die For (1995)': 3.0,\n 'I Love Trouble (1994)': 3.0,\n 'Citizen Kane (1941)': 4.0,\n 'Sleeper (1973)': 4.0,\n 'Quiet Man, The (1952)': 5.0,\n 'Sting, The (1973)': 5.0,\n 'Up in Smoke (1978)': 3.0,\n 'Executive Decision (1996)': 3.0,\n 'Jeffrey (1995)': 3.0,\n 'Inkwell, The (1994)': 3.0,\n 'Serial Mom (1994)': 1.0,\n 'Pulp Fiction (1994)': 4.0,\n 'Supercop (1992)': 3.0,\n 'Major Payne (1994)': 3.0,\n 'Big Squeeze, The (1996)': 2.0,\n 'Days of Thunder (1990)': 5.0,\n 'Apocalypse Now (1979)': 4.0}"
     },
     "execution_count": 26,
     "metadata": {},
     "output_type": "execute_result"
    }
   ],
   "source": [
    "prefs = load_movie_lens()\n",
    "prefs[\"87\"]"
   ],
   "metadata": {
    "collapsed": false,
    "ExecuteTime": {
     "end_time": "2023-07-11T05:04:38.293503Z",
     "start_time": "2023-07-11T05:04:38.190498Z"
    }
   }
  },
  {
   "cell_type": "code",
   "execution_count": 27,
   "outputs": [
    {
     "data": {
      "text/plain": "[(5.0, 'They Made Me a Criminal (1939)'),\n (5.0, 'Star Kid (1997)'),\n (5.0, 'Santa with Muscles (1996)'),\n (5.0, 'Saint of Fort Washington, The (1993)'),\n (5.0, 'Marlene Dietrich: Shadow and Light (1996) '),\n (5.0, 'Great Day in Harlem, A (1994)'),\n (5.0, 'Entertaining Angels: The Dorothy Day Story (1996)'),\n (5.0, 'Boys, Les (1997)'),\n (4.89884443128923, 'Legal Deceit (1997)'),\n (4.815019082242709, 'Letter From Death Row, A (1998)'),\n (4.800260666069042, 'Mrs. Dalloway (1997)'),\n (4.771240079753505, 'Leading Man, The (1996)'),\n (4.7321082983941425, 'Hearts and Minds (1996)'),\n (4.707354190896574, 'Dangerous Beauty (1998)'),\n (4.696244466490867, 'Pather Panchali (1955)'),\n (4.652397061026758, 'Lamerica (1994)'),\n (4.532337612572981, 'Innocents, The (1961)'),\n (4.527998574747076, 'Casablanca (1942)'),\n (4.512903125553784, 'Four Days in September (1997)'),\n (4.510270149719864, 'Everest (1998)'),\n (4.485151301801341, 'Wallace & Gromit: The Best of Aardman Animation (1996)'),\n (4.463287461290221, 'Wrong Trousers, The (1993)'),\n (4.450979436941034, 'Kaspar Hauser (1993)'),\n (4.431079071179518, 'Usual Suspects, The (1995)'),\n (4.427520682864958, 'Maya Lin: A Strong Clear Vision (1994)'),\n (4.414870784592075, 'Wedding Gift, The (1994)'),\n (4.407740300866056, 'Duoluo tianshi (1995)'),\n (4.393353032192905, 'Close Shave, A (1995)'),\n (4.377445252656463, 'Affair to Remember, An (1957)'),\n (4.374146179500976, 'Anna (1996)')]"
     },
     "execution_count": 27,
     "metadata": {},
     "output_type": "execute_result"
    }
   ],
   "source": [
    "# 基于用户的推荐\n",
    "get_recommendations(prefs, \"87\")[:30]"
   ],
   "metadata": {
    "collapsed": false,
    "ExecuteTime": {
     "end_time": "2023-07-11T05:04:38.318826Z",
     "start_time": "2023-07-11T05:04:38.250853Z"
    }
   }
  },
  {
   "cell_type": "code",
   "execution_count": 28,
   "outputs": [
    {
     "name": "stdout",
     "output_type": "stream",
     "text": [
      "100 / 1664\n",
      "200 / 1664\n",
      "300 / 1664\n",
      "400 / 1664\n",
      "500 / 1664\n",
      "600 / 1664\n",
      "700 / 1664\n",
      "800 / 1664\n",
      "900 / 1664\n",
      "1000 / 1664\n",
      "1100 / 1664\n",
      "1200 / 1664\n",
      "1300 / 1664\n",
      "1400 / 1664\n",
      "1500 / 1664\n",
      "1600 / 1664\n"
     ]
    }
   ],
   "source": [
    "# 基于物品的推荐\n",
    "itemsim = calculate_similar_items(prefs, n=50)"
   ],
   "metadata": {
    "collapsed": false,
    "ExecuteTime": {
     "end_time": "2023-07-11T05:04:56.406121Z",
     "start_time": "2023-07-11T05:04:38.331599Z"
    }
   }
  },
  {
   "cell_type": "code",
   "execution_count": 29,
   "outputs": [
    {
     "data": {
      "text/plain": "[(5.0, \"What's Eating Gilbert Grape (1993)\"),\n (5.0, 'Vertigo (1958)'),\n (5.0, 'Usual Suspects, The (1995)'),\n (5.0, 'Toy Story (1995)'),\n (5.0, 'Titanic (1997)'),\n (5.0, 'Sword in the Stone, The (1963)'),\n (5.0, 'Stand by Me (1986)'),\n (5.0, 'Sling Blade (1996)'),\n (5.0, 'Silence of the Lambs, The (1991)'),\n (5.0, 'Shining, The (1980)'),\n (5.0, 'Shine (1996)'),\n (5.0, 'Sense and Sensibility (1995)'),\n (5.0, 'Scream (1996)'),\n (5.0, 'Rumble in the Bronx (1995)'),\n (5.0, 'Rock, The (1996)'),\n (5.0, 'Robin Hood: Prince of Thieves (1991)'),\n (5.0, 'Reservoir Dogs (1992)'),\n (5.0, 'Police Story 4: Project S (Chao ji ji hua) (1993)'),\n (5.0, 'House of the Spirits, The (1993)'),\n (5.0, 'Fresh (1994)'),\n (5.0, 'Denise Calls Up (1995)'),\n (5.0, 'Day the Sun Turned Cold, The (Tianguo niezi) (1994)'),\n (5.0, 'Before the Rain (Pred dozhdot) (1994)'),\n (5.0, 'Assignment, The (1997)'),\n (5.0, '1-900 (1994)'),\n (4.875, \"Ed's Next Move (1996)\"),\n (4.833333333333333, 'Anna (1996)'),\n (4.8, 'Dark City (1998)'),\n (4.75, 'Flower of My Secret, The (Flor de mi secreto, La) (1995)'),\n (4.75, 'Broken English (1996)')]"
     },
     "execution_count": 29,
     "metadata": {},
     "output_type": "execute_result"
    }
   ],
   "source": [
    "get_recommended_items(prefs, itemsim, \"87\")[:30]"
   ],
   "metadata": {
    "collapsed": false,
    "ExecuteTime": {
     "end_time": "2023-07-11T05:04:56.417945Z",
     "start_time": "2023-07-11T05:04:56.404562Z"
    }
   }
  }
 ],
 "metadata": {
  "kernelspec": {
   "display_name": "Python 3",
   "language": "python",
   "name": "python3"
  },
  "language_info": {
   "codemirror_mode": {
    "name": "ipython",
    "version": 2
   },
   "file_extension": ".py",
   "mimetype": "text/x-python",
   "name": "python",
   "nbconvert_exporter": "python",
   "pygments_lexer": "ipython2",
   "version": "2.7.6"
  }
 },
 "nbformat": 4,
 "nbformat_minor": 0
}
