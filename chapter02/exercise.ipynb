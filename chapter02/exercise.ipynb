{
 "cells": [
  {
   "cell_type": "code",
   "execution_count": 1,
   "metadata": {},
   "outputs": [],
   "source": [
    "from recommendations import *"
   ]
  },
  {
   "cell_type": "code",
   "execution_count": 47,
   "metadata": {},
   "outputs": [],
   "source": [
    "# ex3 预先计算不同person之间的相似性\n",
    "def similarity_person(\n",
    "    prefs: dict[str, dict[str, float]], similarity: callable = sim_pearson\n",
    ") -> dict[tuple[str, str], float]:\n",
    "    sim_dict = {}\n",
    "    for person1 in prefs.keys():\n",
    "        for person2 in prefs.keys():\n",
    "            if person1 == person2:\n",
    "                continue\n",
    "\n",
    "            sim = similarity(prefs, person1, person2)\n",
    "            sim_dict[(person1, person2)] = sim\n",
    "            sim_dict[(person2, person1)] = sim\n",
    "\n",
    "    return sim_dict\n",
    "\n",
    "\n",
    "def get_recommendations(\n",
    "    prefs: dict[str, dict[str, float]],\n",
    "    person: str,\n",
    "    similarities: dict[tuple[str, str], float],\n",
    ") -> list[tuple[float, str]]:\n",
    "    totals = {}\n",
    "    sim_sums = {}\n",
    "    for other in prefs:\n",
    "        # 不和自己比较\n",
    "        if other == person:\n",
    "            continue\n",
    "        sim = similarities[(person, other)]\n",
    "        # 忽略评价值小与0的情况，什么时候出现这种情况？\n",
    "        if sim <= 0:\n",
    "            continue\n",
    "        for item in prefs[other]:\n",
    "            # 只对自己还未看过的影片评价\n",
    "            if item not in prefs[person] or prefs[person][item] == 0:\n",
    "                totals.setdefault(item, 0)\n",
    "                totals[item] += prefs[other][item] * sim\n",
    "                sim_sums.setdefault(item, 0)\n",
    "                sim_sums[item] += sim\n",
    "\n",
    "    # 建立一个归一化的列表\n",
    "    rankings = [(total / sim_sums[item], item) for item, total in totals.items()]\n",
    "\n",
    "    rankings.sort(reverse=True)\n",
    "    return rankings"
   ]
  },
  {
   "cell_type": "code",
   "execution_count": 48,
   "metadata": {},
   "outputs": [],
   "source": [
    "similarities = similarity_person(critics)"
   ]
  },
  {
   "cell_type": "code",
   "execution_count": 49,
   "metadata": {},
   "outputs": [
    {
     "data": {
      "text/plain": [
       "[(3.3477895267131017, 'The Night Listener'),\n",
       " (2.8325499182641614, 'Lady in the Water'),\n",
       " (2.530980703765565, 'Just My Luck')]"
      ]
     },
     "execution_count": 49,
     "metadata": {},
     "output_type": "execute_result"
    }
   ],
   "source": [
    "get_recommendations(critics, \"Toby\", similarities)"
   ]
  }
 ],
 "metadata": {
  "kernelspec": {
   "display_name": "Python 3 (ipykernel)",
   "language": "python",
   "name": "python3"
  },
  "language_info": {
   "codemirror_mode": {
    "name": "ipython",
    "version": 3
   },
   "file_extension": ".py",
   "mimetype": "text/x-python",
   "name": "python",
   "nbconvert_exporter": "python",
   "pygments_lexer": "ipython3",
   "version": "3.10.12"
  }
 },
 "nbformat": 4,
 "nbformat_minor": 4
}
